{
 "cells": [
  {
   "cell_type": "code",
   "execution_count": 1,
   "id": "0cc0a84c",
   "metadata": {
    "_cell_guid": "b1076dfc-b9ad-4769-8c92-a6c4dae69d19",
    "_uuid": "8f2839f25d086af736a60e9eeb907d3b93b6e0e5",
    "execution": {
     "iopub.execute_input": "2022-02-04T00:09:15.097264Z",
     "iopub.status.busy": "2022-02-04T00:09:15.095386Z",
     "iopub.status.idle": "2022-02-04T00:09:16.287176Z",
     "shell.execute_reply": "2022-02-04T00:09:16.285767Z",
     "shell.execute_reply.started": "2022-02-03T21:56:02.733830Z"
    },
    "papermill": {
     "duration": 1.218539,
     "end_time": "2022-02-04T00:09:16.287471",
     "exception": false,
     "start_time": "2022-02-04T00:09:15.068932",
     "status": "completed"
    },
    "tags": []
   },
   "outputs": [],
   "source": [
    "import numpy as np\n",
    "import pandas as pd\n",
    "import seaborn as sns\n",
    "import matplotlib.pyplot as plt\n",
    "%matplotlib inline"
   ]
  },
  {
   "cell_type": "code",
   "execution_count": 2,
   "id": "1486bb40",
   "metadata": {
    "execution": {
     "iopub.execute_input": "2022-02-04T00:09:16.334532Z",
     "iopub.status.busy": "2022-02-04T00:09:16.333811Z",
     "iopub.status.idle": "2022-02-04T00:09:16.388262Z",
     "shell.execute_reply": "2022-02-04T00:09:16.388715Z",
     "shell.execute_reply.started": "2022-02-03T21:56:05.139162Z"
    },
    "papermill": {
     "duration": 0.078913,
     "end_time": "2022-02-04T00:09:16.388902",
     "exception": false,
     "start_time": "2022-02-04T00:09:16.309989",
     "status": "completed"
    },
    "tags": []
   },
   "outputs": [],
   "source": [
    "train= pd.read_csv(\"../input/titanic/train.csv\")\n",
    "test= pd.read_csv(\"../input/titanic/test.csv\")\n",
    "\n",
    "train['train_test'] = 1\n",
    "test['train_test'] = 0\n",
    "test['Survived'] = np.NaN\n",
    "df = pd.concat([train,test])"
   ]
  },
  {
   "cell_type": "code",
   "execution_count": 3,
   "id": "71d24080",
   "metadata": {
    "execution": {
     "iopub.execute_input": "2022-02-04T00:09:16.439112Z",
     "iopub.status.busy": "2022-02-04T00:09:16.438266Z",
     "iopub.status.idle": "2022-02-04T00:09:16.463713Z",
     "shell.execute_reply": "2022-02-04T00:09:16.464236Z",
     "shell.execute_reply.started": "2022-02-03T21:56:07.872335Z"
    },
    "papermill": {
     "duration": 0.055153,
     "end_time": "2022-02-04T00:09:16.464442",
     "exception": false,
     "start_time": "2022-02-04T00:09:16.409289",
     "status": "completed"
    },
    "tags": []
   },
   "outputs": [
    {
     "data": {
      "text/html": [
       "<div>\n",
       "<style scoped>\n",
       "    .dataframe tbody tr th:only-of-type {\n",
       "        vertical-align: middle;\n",
       "    }\n",
       "\n",
       "    .dataframe tbody tr th {\n",
       "        vertical-align: top;\n",
       "    }\n",
       "\n",
       "    .dataframe thead th {\n",
       "        text-align: right;\n",
       "    }\n",
       "</style>\n",
       "<table border=\"1\" class=\"dataframe\">\n",
       "  <thead>\n",
       "    <tr style=\"text-align: right;\">\n",
       "      <th></th>\n",
       "      <th>PassengerId</th>\n",
       "      <th>Survived</th>\n",
       "      <th>Pclass</th>\n",
       "      <th>Name</th>\n",
       "      <th>Sex</th>\n",
       "      <th>Age</th>\n",
       "      <th>SibSp</th>\n",
       "      <th>Parch</th>\n",
       "      <th>Ticket</th>\n",
       "      <th>Fare</th>\n",
       "      <th>Cabin</th>\n",
       "      <th>Embarked</th>\n",
       "      <th>train_test</th>\n",
       "    </tr>\n",
       "  </thead>\n",
       "  <tbody>\n",
       "    <tr>\n",
       "      <th>0</th>\n",
       "      <td>1</td>\n",
       "      <td>0.0</td>\n",
       "      <td>3</td>\n",
       "      <td>Braund, Mr. Owen Harris</td>\n",
       "      <td>male</td>\n",
       "      <td>22.0</td>\n",
       "      <td>1</td>\n",
       "      <td>0</td>\n",
       "      <td>A/5 21171</td>\n",
       "      <td>7.2500</td>\n",
       "      <td>NaN</td>\n",
       "      <td>S</td>\n",
       "      <td>1</td>\n",
       "    </tr>\n",
       "    <tr>\n",
       "      <th>1</th>\n",
       "      <td>2</td>\n",
       "      <td>1.0</td>\n",
       "      <td>1</td>\n",
       "      <td>Cumings, Mrs. John Bradley (Florence Briggs Th...</td>\n",
       "      <td>female</td>\n",
       "      <td>38.0</td>\n",
       "      <td>1</td>\n",
       "      <td>0</td>\n",
       "      <td>PC 17599</td>\n",
       "      <td>71.2833</td>\n",
       "      <td>C85</td>\n",
       "      <td>C</td>\n",
       "      <td>1</td>\n",
       "    </tr>\n",
       "    <tr>\n",
       "      <th>2</th>\n",
       "      <td>3</td>\n",
       "      <td>1.0</td>\n",
       "      <td>3</td>\n",
       "      <td>Heikkinen, Miss. Laina</td>\n",
       "      <td>female</td>\n",
       "      <td>26.0</td>\n",
       "      <td>0</td>\n",
       "      <td>0</td>\n",
       "      <td>STON/O2. 3101282</td>\n",
       "      <td>7.9250</td>\n",
       "      <td>NaN</td>\n",
       "      <td>S</td>\n",
       "      <td>1</td>\n",
       "    </tr>\n",
       "    <tr>\n",
       "      <th>3</th>\n",
       "      <td>4</td>\n",
       "      <td>1.0</td>\n",
       "      <td>1</td>\n",
       "      <td>Futrelle, Mrs. Jacques Heath (Lily May Peel)</td>\n",
       "      <td>female</td>\n",
       "      <td>35.0</td>\n",
       "      <td>1</td>\n",
       "      <td>0</td>\n",
       "      <td>113803</td>\n",
       "      <td>53.1000</td>\n",
       "      <td>C123</td>\n",
       "      <td>S</td>\n",
       "      <td>1</td>\n",
       "    </tr>\n",
       "    <tr>\n",
       "      <th>4</th>\n",
       "      <td>5</td>\n",
       "      <td>0.0</td>\n",
       "      <td>3</td>\n",
       "      <td>Allen, Mr. William Henry</td>\n",
       "      <td>male</td>\n",
       "      <td>35.0</td>\n",
       "      <td>0</td>\n",
       "      <td>0</td>\n",
       "      <td>373450</td>\n",
       "      <td>8.0500</td>\n",
       "      <td>NaN</td>\n",
       "      <td>S</td>\n",
       "      <td>1</td>\n",
       "    </tr>\n",
       "    <tr>\n",
       "      <th>5</th>\n",
       "      <td>6</td>\n",
       "      <td>0.0</td>\n",
       "      <td>3</td>\n",
       "      <td>Moran, Mr. James</td>\n",
       "      <td>male</td>\n",
       "      <td>NaN</td>\n",
       "      <td>0</td>\n",
       "      <td>0</td>\n",
       "      <td>330877</td>\n",
       "      <td>8.4583</td>\n",
       "      <td>NaN</td>\n",
       "      <td>Q</td>\n",
       "      <td>1</td>\n",
       "    </tr>\n",
       "    <tr>\n",
       "      <th>6</th>\n",
       "      <td>7</td>\n",
       "      <td>0.0</td>\n",
       "      <td>1</td>\n",
       "      <td>McCarthy, Mr. Timothy J</td>\n",
       "      <td>male</td>\n",
       "      <td>54.0</td>\n",
       "      <td>0</td>\n",
       "      <td>0</td>\n",
       "      <td>17463</td>\n",
       "      <td>51.8625</td>\n",
       "      <td>E46</td>\n",
       "      <td>S</td>\n",
       "      <td>1</td>\n",
       "    </tr>\n",
       "    <tr>\n",
       "      <th>7</th>\n",
       "      <td>8</td>\n",
       "      <td>0.0</td>\n",
       "      <td>3</td>\n",
       "      <td>Palsson, Master. Gosta Leonard</td>\n",
       "      <td>male</td>\n",
       "      <td>2.0</td>\n",
       "      <td>3</td>\n",
       "      <td>1</td>\n",
       "      <td>349909</td>\n",
       "      <td>21.0750</td>\n",
       "      <td>NaN</td>\n",
       "      <td>S</td>\n",
       "      <td>1</td>\n",
       "    </tr>\n",
       "    <tr>\n",
       "      <th>8</th>\n",
       "      <td>9</td>\n",
       "      <td>1.0</td>\n",
       "      <td>3</td>\n",
       "      <td>Johnson, Mrs. Oscar W (Elisabeth Vilhelmina Berg)</td>\n",
       "      <td>female</td>\n",
       "      <td>27.0</td>\n",
       "      <td>0</td>\n",
       "      <td>2</td>\n",
       "      <td>347742</td>\n",
       "      <td>11.1333</td>\n",
       "      <td>NaN</td>\n",
       "      <td>S</td>\n",
       "      <td>1</td>\n",
       "    </tr>\n",
       "    <tr>\n",
       "      <th>9</th>\n",
       "      <td>10</td>\n",
       "      <td>1.0</td>\n",
       "      <td>2</td>\n",
       "      <td>Nasser, Mrs. Nicholas (Adele Achem)</td>\n",
       "      <td>female</td>\n",
       "      <td>14.0</td>\n",
       "      <td>1</td>\n",
       "      <td>0</td>\n",
       "      <td>237736</td>\n",
       "      <td>30.0708</td>\n",
       "      <td>NaN</td>\n",
       "      <td>C</td>\n",
       "      <td>1</td>\n",
       "    </tr>\n",
       "    <tr>\n",
       "      <th>10</th>\n",
       "      <td>11</td>\n",
       "      <td>1.0</td>\n",
       "      <td>3</td>\n",
       "      <td>Sandstrom, Miss. Marguerite Rut</td>\n",
       "      <td>female</td>\n",
       "      <td>4.0</td>\n",
       "      <td>1</td>\n",
       "      <td>1</td>\n",
       "      <td>PP 9549</td>\n",
       "      <td>16.7000</td>\n",
       "      <td>G6</td>\n",
       "      <td>S</td>\n",
       "      <td>1</td>\n",
       "    </tr>\n",
       "    <tr>\n",
       "      <th>11</th>\n",
       "      <td>12</td>\n",
       "      <td>1.0</td>\n",
       "      <td>1</td>\n",
       "      <td>Bonnell, Miss. Elizabeth</td>\n",
       "      <td>female</td>\n",
       "      <td>58.0</td>\n",
       "      <td>0</td>\n",
       "      <td>0</td>\n",
       "      <td>113783</td>\n",
       "      <td>26.5500</td>\n",
       "      <td>C103</td>\n",
       "      <td>S</td>\n",
       "      <td>1</td>\n",
       "    </tr>\n",
       "    <tr>\n",
       "      <th>12</th>\n",
       "      <td>13</td>\n",
       "      <td>0.0</td>\n",
       "      <td>3</td>\n",
       "      <td>Saundercock, Mr. William Henry</td>\n",
       "      <td>male</td>\n",
       "      <td>20.0</td>\n",
       "      <td>0</td>\n",
       "      <td>0</td>\n",
       "      <td>A/5. 2151</td>\n",
       "      <td>8.0500</td>\n",
       "      <td>NaN</td>\n",
       "      <td>S</td>\n",
       "      <td>1</td>\n",
       "    </tr>\n",
       "    <tr>\n",
       "      <th>13</th>\n",
       "      <td>14</td>\n",
       "      <td>0.0</td>\n",
       "      <td>3</td>\n",
       "      <td>Andersson, Mr. Anders Johan</td>\n",
       "      <td>male</td>\n",
       "      <td>39.0</td>\n",
       "      <td>1</td>\n",
       "      <td>5</td>\n",
       "      <td>347082</td>\n",
       "      <td>31.2750</td>\n",
       "      <td>NaN</td>\n",
       "      <td>S</td>\n",
       "      <td>1</td>\n",
       "    </tr>\n",
       "    <tr>\n",
       "      <th>14</th>\n",
       "      <td>15</td>\n",
       "      <td>0.0</td>\n",
       "      <td>3</td>\n",
       "      <td>Vestrom, Miss. Hulda Amanda Adolfina</td>\n",
       "      <td>female</td>\n",
       "      <td>14.0</td>\n",
       "      <td>0</td>\n",
       "      <td>0</td>\n",
       "      <td>350406</td>\n",
       "      <td>7.8542</td>\n",
       "      <td>NaN</td>\n",
       "      <td>S</td>\n",
       "      <td>1</td>\n",
       "    </tr>\n",
       "  </tbody>\n",
       "</table>\n",
       "</div>"
      ],
      "text/plain": [
       "    PassengerId  Survived  Pclass  \\\n",
       "0             1       0.0       3   \n",
       "1             2       1.0       1   \n",
       "2             3       1.0       3   \n",
       "3             4       1.0       1   \n",
       "4             5       0.0       3   \n",
       "5             6       0.0       3   \n",
       "6             7       0.0       1   \n",
       "7             8       0.0       3   \n",
       "8             9       1.0       3   \n",
       "9            10       1.0       2   \n",
       "10           11       1.0       3   \n",
       "11           12       1.0       1   \n",
       "12           13       0.0       3   \n",
       "13           14       0.0       3   \n",
       "14           15       0.0       3   \n",
       "\n",
       "                                                 Name     Sex   Age  SibSp  \\\n",
       "0                             Braund, Mr. Owen Harris    male  22.0      1   \n",
       "1   Cumings, Mrs. John Bradley (Florence Briggs Th...  female  38.0      1   \n",
       "2                              Heikkinen, Miss. Laina  female  26.0      0   \n",
       "3        Futrelle, Mrs. Jacques Heath (Lily May Peel)  female  35.0      1   \n",
       "4                            Allen, Mr. William Henry    male  35.0      0   \n",
       "5                                    Moran, Mr. James    male   NaN      0   \n",
       "6                             McCarthy, Mr. Timothy J    male  54.0      0   \n",
       "7                      Palsson, Master. Gosta Leonard    male   2.0      3   \n",
       "8   Johnson, Mrs. Oscar W (Elisabeth Vilhelmina Berg)  female  27.0      0   \n",
       "9                 Nasser, Mrs. Nicholas (Adele Achem)  female  14.0      1   \n",
       "10                    Sandstrom, Miss. Marguerite Rut  female   4.0      1   \n",
       "11                           Bonnell, Miss. Elizabeth  female  58.0      0   \n",
       "12                     Saundercock, Mr. William Henry    male  20.0      0   \n",
       "13                        Andersson, Mr. Anders Johan    male  39.0      1   \n",
       "14               Vestrom, Miss. Hulda Amanda Adolfina  female  14.0      0   \n",
       "\n",
       "    Parch            Ticket     Fare Cabin Embarked  train_test  \n",
       "0       0         A/5 21171   7.2500   NaN        S           1  \n",
       "1       0          PC 17599  71.2833   C85        C           1  \n",
       "2       0  STON/O2. 3101282   7.9250   NaN        S           1  \n",
       "3       0            113803  53.1000  C123        S           1  \n",
       "4       0            373450   8.0500   NaN        S           1  \n",
       "5       0            330877   8.4583   NaN        Q           1  \n",
       "6       0             17463  51.8625   E46        S           1  \n",
       "7       1            349909  21.0750   NaN        S           1  \n",
       "8       2            347742  11.1333   NaN        S           1  \n",
       "9       0            237736  30.0708   NaN        C           1  \n",
       "10      1           PP 9549  16.7000    G6        S           1  \n",
       "11      0            113783  26.5500  C103        S           1  \n",
       "12      0         A/5. 2151   8.0500   NaN        S           1  \n",
       "13      5            347082  31.2750   NaN        S           1  \n",
       "14      0            350406   7.8542   NaN        S           1  "
      ]
     },
     "execution_count": 3,
     "metadata": {},
     "output_type": "execute_result"
    }
   ],
   "source": [
    "df.head(15)"
   ]
  },
  {
   "cell_type": "code",
   "execution_count": 4,
   "id": "3ad92365",
   "metadata": {
    "execution": {
     "iopub.execute_input": "2022-02-04T00:09:16.512058Z",
     "iopub.status.busy": "2022-02-04T00:09:16.510932Z",
     "iopub.status.idle": "2022-02-04T00:09:16.527046Z",
     "shell.execute_reply": "2022-02-04T00:09:16.528038Z",
     "shell.execute_reply.started": "2022-02-03T21:56:12.426601Z"
    },
    "papermill": {
     "duration": 0.042929,
     "end_time": "2022-02-04T00:09:16.528301",
     "exception": false,
     "start_time": "2022-02-04T00:09:16.485372",
     "status": "completed"
    },
    "tags": []
   },
   "outputs": [
    {
     "name": "stdout",
     "output_type": "stream",
     "text": [
      "<class 'pandas.core.frame.DataFrame'>\n",
      "Int64Index: 1309 entries, 0 to 417\n",
      "Data columns (total 13 columns):\n",
      " #   Column       Non-Null Count  Dtype  \n",
      "---  ------       --------------  -----  \n",
      " 0   PassengerId  1309 non-null   int64  \n",
      " 1   Survived     891 non-null    float64\n",
      " 2   Pclass       1309 non-null   int64  \n",
      " 3   Name         1309 non-null   object \n",
      " 4   Sex          1309 non-null   object \n",
      " 5   Age          1046 non-null   float64\n",
      " 6   SibSp        1309 non-null   int64  \n",
      " 7   Parch        1309 non-null   int64  \n",
      " 8   Ticket       1309 non-null   object \n",
      " 9   Fare         1308 non-null   float64\n",
      " 10  Cabin        295 non-null    object \n",
      " 11  Embarked     1307 non-null   object \n",
      " 12  train_test   1309 non-null   int64  \n",
      "dtypes: float64(3), int64(5), object(5)\n",
      "memory usage: 143.2+ KB\n"
     ]
    }
   ],
   "source": [
    "df.info()"
   ]
  },
  {
   "cell_type": "markdown",
   "id": "e880d336",
   "metadata": {
    "papermill": {
     "duration": 0.018655,
     "end_time": "2022-02-04T00:09:16.566303",
     "exception": false,
     "start_time": "2022-02-04T00:09:16.547648",
     "status": "completed"
    },
    "tags": []
   },
   "source": [
    "* Age está com bastante null-values que podem ser substituídos pela média ou mediana dependendo da distribuição das idades ou talvez 'adivinhada' por um algoritimo de machine learning.\n",
    "* Cabin falta bastante valores. Um valor único pode ser atribuído aos que faltam.\n",
    "* Embarked está com dois valores faltando, caso esta variável for utilizada essas duas linhas poderão ser removidas."
   ]
  },
  {
   "cell_type": "code",
   "execution_count": 5,
   "id": "e24c5c86",
   "metadata": {
    "execution": {
     "iopub.execute_input": "2022-02-04T00:09:16.612426Z",
     "iopub.status.busy": "2022-02-04T00:09:16.611399Z",
     "iopub.status.idle": "2022-02-04T00:09:16.625967Z",
     "shell.execute_reply": "2022-02-04T00:09:16.626708Z",
     "shell.execute_reply.started": "2022-02-03T21:56:18.294319Z"
    },
    "papermill": {
     "duration": 0.040258,
     "end_time": "2022-02-04T00:09:16.626958",
     "exception": false,
     "start_time": "2022-02-04T00:09:16.586700",
     "status": "completed"
    },
    "tags": []
   },
   "outputs": [
    {
     "name": "stdout",
     "output_type": "stream",
     "text": [
      "<class 'pandas.core.frame.DataFrame'>\n",
      "RangeIndex: 418 entries, 0 to 417\n",
      "Data columns (total 13 columns):\n",
      " #   Column       Non-Null Count  Dtype  \n",
      "---  ------       --------------  -----  \n",
      " 0   PassengerId  418 non-null    int64  \n",
      " 1   Pclass       418 non-null    int64  \n",
      " 2   Name         418 non-null    object \n",
      " 3   Sex          418 non-null    object \n",
      " 4   Age          332 non-null    float64\n",
      " 5   SibSp        418 non-null    int64  \n",
      " 6   Parch        418 non-null    int64  \n",
      " 7   Ticket       418 non-null    object \n",
      " 8   Fare         417 non-null    float64\n",
      " 9   Cabin        91 non-null     object \n",
      " 10  Embarked     418 non-null    object \n",
      " 11  train_test   418 non-null    int64  \n",
      " 12  Survived     0 non-null      float64\n",
      "dtypes: float64(3), int64(5), object(5)\n",
      "memory usage: 42.6+ KB\n"
     ]
    }
   ],
   "source": [
    "test.info()"
   ]
  },
  {
   "cell_type": "code",
   "execution_count": 6,
   "id": "5b075797",
   "metadata": {
    "execution": {
     "iopub.execute_input": "2022-02-04T00:09:16.677832Z",
     "iopub.status.busy": "2022-02-04T00:09:16.676939Z",
     "iopub.status.idle": "2022-02-04T00:09:16.707564Z",
     "shell.execute_reply": "2022-02-04T00:09:16.708622Z",
     "shell.execute_reply.started": "2022-02-03T12:01:02.973524Z"
    },
    "papermill": {
     "duration": 0.060723,
     "end_time": "2022-02-04T00:09:16.708872",
     "exception": false,
     "start_time": "2022-02-04T00:09:16.648149",
     "status": "completed"
    },
    "tags": []
   },
   "outputs": [
    {
     "data": {
      "text/html": [
       "<div>\n",
       "<style scoped>\n",
       "    .dataframe tbody tr th:only-of-type {\n",
       "        vertical-align: middle;\n",
       "    }\n",
       "\n",
       "    .dataframe tbody tr th {\n",
       "        vertical-align: top;\n",
       "    }\n",
       "\n",
       "    .dataframe thead th {\n",
       "        text-align: right;\n",
       "    }\n",
       "</style>\n",
       "<table border=\"1\" class=\"dataframe\">\n",
       "  <thead>\n",
       "    <tr style=\"text-align: right;\">\n",
       "      <th></th>\n",
       "      <th>PassengerId</th>\n",
       "      <th>Survived</th>\n",
       "      <th>Pclass</th>\n",
       "      <th>Age</th>\n",
       "      <th>SibSp</th>\n",
       "      <th>Parch</th>\n",
       "      <th>Fare</th>\n",
       "      <th>train_test</th>\n",
       "    </tr>\n",
       "  </thead>\n",
       "  <tbody>\n",
       "    <tr>\n",
       "      <th>count</th>\n",
       "      <td>891.000000</td>\n",
       "      <td>891.000000</td>\n",
       "      <td>891.000000</td>\n",
       "      <td>714.000000</td>\n",
       "      <td>891.000000</td>\n",
       "      <td>891.000000</td>\n",
       "      <td>891.000000</td>\n",
       "      <td>891.0</td>\n",
       "    </tr>\n",
       "    <tr>\n",
       "      <th>mean</th>\n",
       "      <td>446.000000</td>\n",
       "      <td>0.383838</td>\n",
       "      <td>2.308642</td>\n",
       "      <td>29.699118</td>\n",
       "      <td>0.523008</td>\n",
       "      <td>0.381594</td>\n",
       "      <td>32.204208</td>\n",
       "      <td>1.0</td>\n",
       "    </tr>\n",
       "    <tr>\n",
       "      <th>std</th>\n",
       "      <td>257.353842</td>\n",
       "      <td>0.486592</td>\n",
       "      <td>0.836071</td>\n",
       "      <td>14.526497</td>\n",
       "      <td>1.102743</td>\n",
       "      <td>0.806057</td>\n",
       "      <td>49.693429</td>\n",
       "      <td>0.0</td>\n",
       "    </tr>\n",
       "    <tr>\n",
       "      <th>min</th>\n",
       "      <td>1.000000</td>\n",
       "      <td>0.000000</td>\n",
       "      <td>1.000000</td>\n",
       "      <td>0.420000</td>\n",
       "      <td>0.000000</td>\n",
       "      <td>0.000000</td>\n",
       "      <td>0.000000</td>\n",
       "      <td>1.0</td>\n",
       "    </tr>\n",
       "    <tr>\n",
       "      <th>25%</th>\n",
       "      <td>223.500000</td>\n",
       "      <td>0.000000</td>\n",
       "      <td>2.000000</td>\n",
       "      <td>20.125000</td>\n",
       "      <td>0.000000</td>\n",
       "      <td>0.000000</td>\n",
       "      <td>7.910400</td>\n",
       "      <td>1.0</td>\n",
       "    </tr>\n",
       "    <tr>\n",
       "      <th>50%</th>\n",
       "      <td>446.000000</td>\n",
       "      <td>0.000000</td>\n",
       "      <td>3.000000</td>\n",
       "      <td>28.000000</td>\n",
       "      <td>0.000000</td>\n",
       "      <td>0.000000</td>\n",
       "      <td>14.454200</td>\n",
       "      <td>1.0</td>\n",
       "    </tr>\n",
       "    <tr>\n",
       "      <th>75%</th>\n",
       "      <td>668.500000</td>\n",
       "      <td>1.000000</td>\n",
       "      <td>3.000000</td>\n",
       "      <td>38.000000</td>\n",
       "      <td>1.000000</td>\n",
       "      <td>0.000000</td>\n",
       "      <td>31.000000</td>\n",
       "      <td>1.0</td>\n",
       "    </tr>\n",
       "    <tr>\n",
       "      <th>max</th>\n",
       "      <td>891.000000</td>\n",
       "      <td>1.000000</td>\n",
       "      <td>3.000000</td>\n",
       "      <td>80.000000</td>\n",
       "      <td>8.000000</td>\n",
       "      <td>6.000000</td>\n",
       "      <td>512.329200</td>\n",
       "      <td>1.0</td>\n",
       "    </tr>\n",
       "  </tbody>\n",
       "</table>\n",
       "</div>"
      ],
      "text/plain": [
       "       PassengerId    Survived      Pclass         Age       SibSp  \\\n",
       "count   891.000000  891.000000  891.000000  714.000000  891.000000   \n",
       "mean    446.000000    0.383838    2.308642   29.699118    0.523008   \n",
       "std     257.353842    0.486592    0.836071   14.526497    1.102743   \n",
       "min       1.000000    0.000000    1.000000    0.420000    0.000000   \n",
       "25%     223.500000    0.000000    2.000000   20.125000    0.000000   \n",
       "50%     446.000000    0.000000    3.000000   28.000000    0.000000   \n",
       "75%     668.500000    1.000000    3.000000   38.000000    1.000000   \n",
       "max     891.000000    1.000000    3.000000   80.000000    8.000000   \n",
       "\n",
       "            Parch        Fare  train_test  \n",
       "count  891.000000  891.000000       891.0  \n",
       "mean     0.381594   32.204208         1.0  \n",
       "std      0.806057   49.693429         0.0  \n",
       "min      0.000000    0.000000         1.0  \n",
       "25%      0.000000    7.910400         1.0  \n",
       "50%      0.000000   14.454200         1.0  \n",
       "75%      0.000000   31.000000         1.0  \n",
       "max      6.000000  512.329200         1.0  "
      ]
     },
     "execution_count": 6,
     "metadata": {},
     "output_type": "execute_result"
    }
   ],
   "source": [
    "train.describe()"
   ]
  },
  {
   "cell_type": "markdown",
   "id": "9891122d",
   "metadata": {
    "papermill": {
     "duration": 0.023322,
     "end_time": "2022-02-04T00:09:16.758158",
     "exception": false,
     "start_time": "2022-02-04T00:09:16.734836",
     "status": "completed"
    },
    "tags": []
   },
   "source": [
    "### Valores numéricos"
   ]
  },
  {
   "cell_type": "code",
   "execution_count": 7,
   "id": "08cc08dd",
   "metadata": {
    "execution": {
     "iopub.execute_input": "2022-02-04T00:09:16.801115Z",
     "iopub.status.busy": "2022-02-04T00:09:16.800421Z",
     "iopub.status.idle": "2022-02-04T00:09:17.695821Z",
     "shell.execute_reply": "2022-02-04T00:09:17.695342Z",
     "shell.execute_reply.started": "2022-02-03T21:56:54.236853Z"
    },
    "papermill": {
     "duration": 0.917304,
     "end_time": "2022-02-04T00:09:17.695964",
     "exception": false,
     "start_time": "2022-02-04T00:09:16.778660",
     "status": "completed"
    },
    "tags": []
   },
   "outputs": [
    {
     "data": {
      "image/png": "[encoded data removed]",
      "text/plain": [
       "<Figure size 432x288 with 1 Axes>"
      ]
     },
     "metadata": {
      "needs_background": "light"
     },
     "output_type": "display_data"
    },
    {
     "data": {
      "image/png": "[encoded data removed]",
      "text/plain": [
       "<Figure size 432x288 with 1 Axes>"
      ]
     },
     "metadata": {
      "needs_background": "light"
     },
     "output_type": "display_data"
    },
    {
     "data": {
      "image/png": "[encoded data removed]",
      "text/plain": [
       "<Figure size 432x288 with 1 Axes>"
      ]
     },
     "metadata": {
      "needs_background": "light"
     },
     "output_type": "display_data"
    },
    {
     "data": {
      "image/png": "[encoded data removed]",
      "text/plain": [
       "<Figure size 432x288 with 1 Axes>"
      ]
     },
     "metadata": {
      "needs_background": "light"
     },
     "output_type": "display_data"
    }
   ],
   "source": [
    "for i in ['Age', 'SibSp','Parch','Fare']:\n",
    "    plt.hist(train[i])\n",
    "    plt.hist(test[i])\n",
    "    plt.title(i)\n",
    "    plt.show()"
   ]
  },
  {
   "cell_type": "markdown",
   "id": "27a9d6ba",
   "metadata": {
    "papermill": {
     "duration": 0.022016,
     "end_time": "2022-02-04T00:09:17.739978",
     "exception": false,
     "start_time": "2022-02-04T00:09:17.717962",
     "status": "completed"
    },
    "tags": []
   },
   "source": [
    "Somente Age está normalizado, SibSp, Parch e Fare terão que ser modificados com alguma técnica de normalização."
   ]
  },
  {
   "cell_type": "code",
   "execution_count": 8,
   "id": "798a5bf3",
   "metadata": {
    "execution": {
     "iopub.execute_input": "2022-02-04T00:09:17.791982Z",
     "iopub.status.busy": "2022-02-04T00:09:17.790175Z",
     "iopub.status.idle": "2022-02-04T00:09:18.065323Z",
     "shell.execute_reply": "2022-02-04T00:09:18.066121Z",
     "shell.execute_reply.started": "2022-02-03T21:57:24.108074Z"
    },
    "papermill": {
     "duration": 0.304645,
     "end_time": "2022-02-04T00:09:18.066326",
     "exception": false,
     "start_time": "2022-02-04T00:09:17.761681",
     "status": "completed"
    },
    "tags": []
   },
   "outputs": [
    {
     "data": {
      "image/png": "[encoded data removed]",
      "text/plain": [
       "<Figure size 576x576 with 2 Axes>"
      ]
     },
     "metadata": {
      "needs_background": "light"
     },
     "output_type": "display_data"
    }
   ],
   "source": [
    "corr=train[['Age','Pclass', 'SibSp', 'Parch','Fare']].corr()\n",
    "mask = np.zeros_like(corr)\n",
    "mask[np.triu_indices_from(mask)] = True\n",
    "plt.figure(figsize=(8,8))\n",
    "sns.heatmap(corr, mask=mask, annot=True, fmt='.1f')\n",
    "plt.show()"
   ]
  },
  {
   "cell_type": "code",
   "execution_count": 9,
   "id": "c24581fa",
   "metadata": {
    "execution": {
     "iopub.execute_input": "2022-02-04T00:09:18.122630Z",
     "iopub.status.busy": "2022-02-04T00:09:18.121764Z",
     "iopub.status.idle": "2022-02-04T00:09:18.151956Z",
     "shell.execute_reply": "2022-02-04T00:09:18.151327Z",
     "shell.execute_reply.started": "2022-02-03T21:57:34.124631Z"
    },
    "papermill": {
     "duration": 0.062555,
     "end_time": "2022-02-04T00:09:18.152237",
     "exception": false,
     "start_time": "2022-02-04T00:09:18.089682",
     "status": "completed"
    },
    "tags": []
   },
   "outputs": [
    {
     "data": {
      "text/html": [
       "<div>\n",
       "<style scoped>\n",
       "    .dataframe tbody tr th:only-of-type {\n",
       "        vertical-align: middle;\n",
       "    }\n",
       "\n",
       "    .dataframe tbody tr th {\n",
       "        vertical-align: top;\n",
       "    }\n",
       "\n",
       "    .dataframe thead th {\n",
       "        text-align: right;\n",
       "    }\n",
       "</style>\n",
       "<table border=\"1\" class=\"dataframe\">\n",
       "  <thead>\n",
       "    <tr style=\"text-align: right;\">\n",
       "      <th></th>\n",
       "      <th>Age</th>\n",
       "      <th>Fare</th>\n",
       "      <th>Parch</th>\n",
       "      <th>SibSp</th>\n",
       "    </tr>\n",
       "    <tr>\n",
       "      <th>Survived</th>\n",
       "      <th></th>\n",
       "      <th></th>\n",
       "      <th></th>\n",
       "      <th></th>\n",
       "    </tr>\n",
       "  </thead>\n",
       "  <tbody>\n",
       "    <tr>\n",
       "      <th>0</th>\n",
       "      <td>30.626179</td>\n",
       "      <td>22.117887</td>\n",
       "      <td>0.329690</td>\n",
       "      <td>0.553734</td>\n",
       "    </tr>\n",
       "    <tr>\n",
       "      <th>1</th>\n",
       "      <td>28.343690</td>\n",
       "      <td>48.395408</td>\n",
       "      <td>0.464912</td>\n",
       "      <td>0.473684</td>\n",
       "    </tr>\n",
       "  </tbody>\n",
       "</table>\n",
       "</div>"
      ],
      "text/plain": [
       "                Age       Fare     Parch     SibSp\n",
       "Survived                                          \n",
       "0         30.626179  22.117887  0.329690  0.553734\n",
       "1         28.343690  48.395408  0.464912  0.473684"
      ]
     },
     "execution_count": 9,
     "metadata": {},
     "output_type": "execute_result"
    }
   ],
   "source": [
    "pd.pivot_table(train, index = 'Survived', values = ['Age','SibSp','Parch','Fare'])"
   ]
  },
  {
   "cell_type": "markdown",
   "id": "6b86d0fc",
   "metadata": {
    "papermill": {
     "duration": 0.025082,
     "end_time": "2022-02-04T00:09:18.201303",
     "exception": false,
     "start_time": "2022-02-04T00:09:18.176221",
     "status": "completed"
    },
    "tags": []
   },
   "source": [
    "### Valores categóricos"
   ]
  },
  {
   "cell_type": "code",
   "execution_count": 10,
   "id": "f8ea3bff",
   "metadata": {
    "execution": {
     "iopub.execute_input": "2022-02-04T00:09:18.252982Z",
     "iopub.status.busy": "2022-02-04T00:09:18.252359Z",
     "iopub.status.idle": "2022-02-04T00:09:29.096114Z",
     "shell.execute_reply": "2022-02-04T00:09:29.095440Z",
     "shell.execute_reply.started": "2022-02-03T13:25:31.391397Z"
    },
    "papermill": {
     "duration": 10.870984,
     "end_time": "2022-02-04T00:09:29.096453",
     "exception": false,
     "start_time": "2022-02-04T00:09:18.225469",
     "status": "completed"
    },
    "tags": []
   },
   "outputs": [
    {
     "data": {
      "image/png": "[encoded data removed]",
      "text/plain": [
       "<Figure size 432x288 with 1 Axes>"
      ]
     },
     "metadata": {
      "needs_background": "light"
     },
     "output_type": "display_data"
    },
    {
     "data": {
      "image/png": "[encoded data removed]",
      "text/plain": [
       "<Figure size 432x288 with 1 Axes>"
      ]
     },
     "metadata": {
      "needs_background": "light"
     },
     "output_type": "display_data"
    },
    {
     "data": {
      "image/png": "[encoded data removed]",
      "text/plain": [
       "<Figure size 432x288 with 1 Axes>"
      ]
     },
     "metadata": {
      "needs_background": "light"
     },
     "output_type": "display_data"
    },
    {
     "data": {
      "image/png": "[encoded data removed]",
      "text/plain": [
       "<Figure size 432x288 with 1 Axes>"
      ]
     },
     "metadata": {
      "needs_background": "light"
     },
     "output_type": "display_data"
    },
    {
     "data": {
      "image/png": "[encoded data removed]",
      "text/plain": [
       "<Figure size 432x288 with 1 Axes>"
      ]
     },
     "metadata": {
      "needs_background": "light"
     },
     "output_type": "display_data"
    },
    {
     "data": {
      "image/png": "[encoded data removed]",
      "text/plain": [
       "<Figure size 432x288 with 1 Axes>"
      ]
     },
     "metadata": {
      "needs_background": "light"
     },
     "output_type": "display_data"
    }
   ],
   "source": [
    "for i in ['Survived','Pclass','Sex','Embarked','Cabin','Ticket']:\n",
    "    sns.barplot(x=train[i].value_counts().index,y=train[i].value_counts()).set_title(i);\n",
    "    plt.show();"
   ]
  },
  {
   "cell_type": "markdown",
   "id": "5958b1c6",
   "metadata": {
    "papermill": {
     "duration": 0.025893,
     "end_time": "2022-02-04T00:09:29.149389",
     "exception": false,
     "start_time": "2022-02-04T00:09:29.123496",
     "status": "completed"
    },
    "tags": []
   },
   "source": [
    "Talvez podemos usar Feature Engineering em Cabin e Ticket."
   ]
  },
  {
   "cell_type": "markdown",
   "id": "70f6c719",
   "metadata": {
    "papermill": {
     "duration": 0.02648,
     "end_time": "2022-02-04T00:09:29.201715",
     "exception": false,
     "start_time": "2022-02-04T00:09:29.175235",
     "status": "completed"
    },
    "tags": []
   },
   "source": [
    "Vamos normalizar..."
   ]
  },
  {
   "cell_type": "code",
   "execution_count": null,
   "id": "cf452222",
   "metadata": {
    "execution": {
     "iopub.execute_input": "2022-02-03T12:28:47.508670Z",
     "iopub.status.busy": "2022-02-03T12:28:47.507395Z",
     "iopub.status.idle": "2022-02-03T12:28:47.515298Z",
     "shell.execute_reply": "2022-02-03T12:28:47.514143Z",
     "shell.execute_reply.started": "2022-02-03T12:28:47.508589Z"
    },
    "papermill": {
     "duration": 0.025408,
     "end_time": "2022-02-04T00:09:29.254401",
     "exception": false,
     "start_time": "2022-02-04T00:09:29.228993",
     "status": "completed"
    },
    "tags": []
   },
   "outputs": [],
   "source": []
  },
  {
   "cell_type": "code",
   "execution_count": 11,
   "id": "06d54f06",
   "metadata": {
    "execution": {
     "iopub.execute_input": "2022-02-04T00:09:29.315944Z",
     "iopub.status.busy": "2022-02-04T00:09:29.314802Z",
     "iopub.status.idle": "2022-02-04T00:09:29.317638Z",
     "shell.execute_reply": "2022-02-04T00:09:29.317167Z",
     "shell.execute_reply.started": "2022-02-03T22:16:33.437777Z"
    },
    "papermill": {
     "duration": 0.03697,
     "end_time": "2022-02-04T00:09:29.317778",
     "exception": false,
     "start_time": "2022-02-04T00:09:29.280808",
     "status": "completed"
    },
    "tags": []
   },
   "outputs": [],
   "source": [
    "df['haveAge']=df.Age.apply(lambda x: 1 if pd.isna(x) else 0)"
   ]
  },
  {
   "cell_type": "code",
   "execution_count": 12,
   "id": "5950fddb",
   "metadata": {
    "execution": {
     "iopub.execute_input": "2022-02-04T00:09:29.383463Z",
     "iopub.status.busy": "2022-02-04T00:09:29.379914Z",
     "iopub.status.idle": "2022-02-04T00:09:29.389422Z",
     "shell.execute_reply": "2022-02-04T00:09:29.388874Z",
     "shell.execute_reply.started": "2022-02-03T22:37:53.119734Z"
    },
    "papermill": {
     "duration": 0.044374,
     "end_time": "2022-02-04T00:09:29.389564",
     "exception": false,
     "start_time": "2022-02-04T00:09:29.345190",
     "status": "completed"
    },
    "tags": []
   },
   "outputs": [],
   "source": [
    "df.Age=df.Age.fillna(df.Age.mean())\n",
    "df.Fare=df.Fare.fillna(df.Fare.median())\n",
    "df.Pclass=np.log(df.Pclass+1)\n",
    "df.SibSp=np.log(df.SibSp+1)\n",
    "df.dropna(axis=0, subset=['Embarked'],inplace = True)"
   ]
  },
  {
   "cell_type": "code",
   "execution_count": 13,
   "id": "fd999398",
   "metadata": {
    "execution": {
     "iopub.execute_input": "2022-02-04T00:09:29.461733Z",
     "iopub.status.busy": "2022-02-04T00:09:29.460818Z",
     "iopub.status.idle": "2022-02-04T00:09:29.464791Z",
     "shell.execute_reply": "2022-02-04T00:09:29.464217Z",
     "shell.execute_reply.started": "2022-02-03T22:37:56.948587Z"
    },
    "papermill": {
     "duration": 0.047829,
     "end_time": "2022-02-04T00:09:29.464938",
     "exception": false,
     "start_time": "2022-02-04T00:09:29.417109",
     "status": "completed"
    },
    "tags": []
   },
   "outputs": [
    {
     "data": {
      "text/html": [
       "<div>\n",
       "<style scoped>\n",
       "    .dataframe tbody tr th:only-of-type {\n",
       "        vertical-align: middle;\n",
       "    }\n",
       "\n",
       "    .dataframe tbody tr th {\n",
       "        vertical-align: top;\n",
       "    }\n",
       "\n",
       "    .dataframe thead th {\n",
       "        text-align: right;\n",
       "    }\n",
       "</style>\n",
       "<table border=\"1\" class=\"dataframe\">\n",
       "  <thead>\n",
       "    <tr style=\"text-align: right;\">\n",
       "      <th></th>\n",
       "      <th>PassengerId</th>\n",
       "      <th>Survived</th>\n",
       "      <th>Pclass</th>\n",
       "      <th>Name</th>\n",
       "      <th>Sex</th>\n",
       "      <th>Age</th>\n",
       "      <th>SibSp</th>\n",
       "      <th>Parch</th>\n",
       "      <th>Ticket</th>\n",
       "      <th>Fare</th>\n",
       "      <th>Cabin</th>\n",
       "      <th>Embarked</th>\n",
       "      <th>train_test</th>\n",
       "      <th>haveAge</th>\n",
       "    </tr>\n",
       "  </thead>\n",
       "  <tbody>\n",
       "    <tr>\n",
       "      <th>0</th>\n",
       "      <td>1</td>\n",
       "      <td>0.0</td>\n",
       "      <td>1.386294</td>\n",
       "      <td>Braund, Mr. Owen Harris</td>\n",
       "      <td>male</td>\n",
       "      <td>22.0</td>\n",
       "      <td>0.693147</td>\n",
       "      <td>0</td>\n",
       "      <td>A/5 21171</td>\n",
       "      <td>7.2500</td>\n",
       "      <td>NaN</td>\n",
       "      <td>S</td>\n",
       "      <td>1</td>\n",
       "      <td>0</td>\n",
       "    </tr>\n",
       "    <tr>\n",
       "      <th>1</th>\n",
       "      <td>2</td>\n",
       "      <td>1.0</td>\n",
       "      <td>0.693147</td>\n",
       "      <td>Cumings, Mrs. John Bradley (Florence Briggs Th...</td>\n",
       "      <td>female</td>\n",
       "      <td>38.0</td>\n",
       "      <td>0.693147</td>\n",
       "      <td>0</td>\n",
       "      <td>PC 17599</td>\n",
       "      <td>71.2833</td>\n",
       "      <td>C85</td>\n",
       "      <td>C</td>\n",
       "      <td>1</td>\n",
       "      <td>0</td>\n",
       "    </tr>\n",
       "    <tr>\n",
       "      <th>2</th>\n",
       "      <td>3</td>\n",
       "      <td>1.0</td>\n",
       "      <td>1.386294</td>\n",
       "      <td>Heikkinen, Miss. Laina</td>\n",
       "      <td>female</td>\n",
       "      <td>26.0</td>\n",
       "      <td>0.000000</td>\n",
       "      <td>0</td>\n",
       "      <td>STON/O2. 3101282</td>\n",
       "      <td>7.9250</td>\n",
       "      <td>NaN</td>\n",
       "      <td>S</td>\n",
       "      <td>1</td>\n",
       "      <td>0</td>\n",
       "    </tr>\n",
       "    <tr>\n",
       "      <th>3</th>\n",
       "      <td>4</td>\n",
       "      <td>1.0</td>\n",
       "      <td>0.693147</td>\n",
       "      <td>Futrelle, Mrs. Jacques Heath (Lily May Peel)</td>\n",
       "      <td>female</td>\n",
       "      <td>35.0</td>\n",
       "      <td>0.693147</td>\n",
       "      <td>0</td>\n",
       "      <td>113803</td>\n",
       "      <td>53.1000</td>\n",
       "      <td>C123</td>\n",
       "      <td>S</td>\n",
       "      <td>1</td>\n",
       "      <td>0</td>\n",
       "    </tr>\n",
       "    <tr>\n",
       "      <th>4</th>\n",
       "      <td>5</td>\n",
       "      <td>0.0</td>\n",
       "      <td>1.386294</td>\n",
       "      <td>Allen, Mr. William Henry</td>\n",
       "      <td>male</td>\n",
       "      <td>35.0</td>\n",
       "      <td>0.000000</td>\n",
       "      <td>0</td>\n",
       "      <td>373450</td>\n",
       "      <td>8.0500</td>\n",
       "      <td>NaN</td>\n",
       "      <td>S</td>\n",
       "      <td>1</td>\n",
       "      <td>0</td>\n",
       "    </tr>\n",
       "  </tbody>\n",
       "</table>\n",
       "</div>"
      ],
      "text/plain": [
       "   PassengerId  Survived    Pclass  \\\n",
       "0            1       0.0  1.386294   \n",
       "1            2       1.0  0.693147   \n",
       "2            3       1.0  1.386294   \n",
       "3            4       1.0  0.693147   \n",
       "4            5       0.0  1.386294   \n",
       "\n",
       "                                                Name     Sex   Age     SibSp  \\\n",
       "0                            Braund, Mr. Owen Harris    male  22.0  0.693147   \n",
       "1  Cumings, Mrs. John Bradley (Florence Briggs Th...  female  38.0  0.693147   \n",
       "2                             Heikkinen, Miss. Laina  female  26.0  0.000000   \n",
       "3       Futrelle, Mrs. Jacques Heath (Lily May Peel)  female  35.0  0.693147   \n",
       "4                           Allen, Mr. William Henry    male  35.0  0.000000   \n",
       "\n",
       "   Parch            Ticket     Fare Cabin Embarked  train_test  haveAge  \n",
       "0      0         A/5 21171   7.2500   NaN        S           1        0  \n",
       "1      0          PC 17599  71.2833   C85        C           1        0  \n",
       "2      0  STON/O2. 3101282   7.9250   NaN        S           1        0  \n",
       "3      0            113803  53.1000  C123        S           1        0  \n",
       "4      0            373450   8.0500   NaN        S           1        0  "
      ]
     },
     "execution_count": 13,
     "metadata": {},
     "output_type": "execute_result"
    }
   ],
   "source": [
    "df.head()"
   ]
  },
  {
   "cell_type": "code",
   "execution_count": 14,
   "id": "732e0d77",
   "metadata": {
    "execution": {
     "iopub.execute_input": "2022-02-04T00:09:29.523025Z",
     "iopub.status.busy": "2022-02-04T00:09:29.522379Z",
     "iopub.status.idle": "2022-02-04T00:09:29.658292Z",
     "shell.execute_reply": "2022-02-04T00:09:29.658810Z",
     "shell.execute_reply.started": "2022-02-03T22:40:36.052955Z"
    },
    "papermill": {
     "duration": 0.167881,
     "end_time": "2022-02-04T00:09:29.658984",
     "exception": false,
     "start_time": "2022-02-04T00:09:29.491103",
     "status": "completed"
    },
    "tags": []
   },
   "outputs": [],
   "source": [
    "from sklearn.preprocessing import StandardScaler\n",
    "scaler = StandardScaler()\n",
    "df_scaled=df.copy()\n",
    "df_scaled[['Pclass', 'Age','SibSp','Parch','Fare']]=scaler.fit_transform(df_scaled[['Pclass', 'Age','SibSp','Parch','Fare']])"
   ]
  },
  {
   "cell_type": "code",
   "execution_count": 15,
   "id": "039af5ba",
   "metadata": {
    "execution": {
     "iopub.execute_input": "2022-02-04T00:09:29.730909Z",
     "iopub.status.busy": "2022-02-04T00:09:29.729662Z",
     "iopub.status.idle": "2022-02-04T00:09:29.732839Z",
     "shell.execute_reply": "2022-02-04T00:09:29.733308Z",
     "shell.execute_reply.started": "2022-02-03T22:40:38.990627Z"
    },
    "papermill": {
     "duration": 0.048643,
     "end_time": "2022-02-04T00:09:29.733476",
     "exception": false,
     "start_time": "2022-02-04T00:09:29.684833",
     "status": "completed"
    },
    "tags": []
   },
   "outputs": [
    {
     "data": {
      "text/html": [
       "<div>\n",
       "<style scoped>\n",
       "    .dataframe tbody tr th:only-of-type {\n",
       "        vertical-align: middle;\n",
       "    }\n",
       "\n",
       "    .dataframe tbody tr th {\n",
       "        vertical-align: top;\n",
       "    }\n",
       "\n",
       "    .dataframe thead th {\n",
       "        text-align: right;\n",
       "    }\n",
       "</style>\n",
       "<table border=\"1\" class=\"dataframe\">\n",
       "  <thead>\n",
       "    <tr style=\"text-align: right;\">\n",
       "      <th></th>\n",
       "      <th>PassengerId</th>\n",
       "      <th>Survived</th>\n",
       "      <th>Pclass</th>\n",
       "      <th>Name</th>\n",
       "      <th>Sex</th>\n",
       "      <th>Age</th>\n",
       "      <th>SibSp</th>\n",
       "      <th>Parch</th>\n",
       "      <th>Ticket</th>\n",
       "      <th>Fare</th>\n",
       "      <th>Cabin</th>\n",
       "      <th>Embarked</th>\n",
       "      <th>train_test</th>\n",
       "      <th>haveAge</th>\n",
       "    </tr>\n",
       "  </thead>\n",
       "  <tbody>\n",
       "    <tr>\n",
       "      <th>0</th>\n",
       "      <td>1</td>\n",
       "      <td>0.0</td>\n",
       "      <td>0.807005</td>\n",
       "      <td>Braund, Mr. Owen Harris</td>\n",
       "      <td>male</td>\n",
       "      <td>-0.610663</td>\n",
       "      <td>0.930628</td>\n",
       "      <td>-0.445407</td>\n",
       "      <td>A/5 21171</td>\n",
       "      <td>-0.501839</td>\n",
       "      <td>NaN</td>\n",
       "      <td>S</td>\n",
       "      <td>1</td>\n",
       "      <td>0</td>\n",
       "    </tr>\n",
       "    <tr>\n",
       "      <th>1</th>\n",
       "      <td>2</td>\n",
       "      <td>1.0</td>\n",
       "      <td>-1.612351</td>\n",
       "      <td>Cumings, Mrs. John Bradley (Florence Briggs Th...</td>\n",
       "      <td>female</td>\n",
       "      <td>0.633944</td>\n",
       "      <td>0.930628</td>\n",
       "      <td>-0.445407</td>\n",
       "      <td>PC 17599</td>\n",
       "      <td>0.736023</td>\n",
       "      <td>C85</td>\n",
       "      <td>C</td>\n",
       "      <td>1</td>\n",
       "      <td>0</td>\n",
       "    </tr>\n",
       "    <tr>\n",
       "      <th>2</th>\n",
       "      <td>3</td>\n",
       "      <td>1.0</td>\n",
       "      <td>0.807005</td>\n",
       "      <td>Heikkinen, Miss. Laina</td>\n",
       "      <td>female</td>\n",
       "      <td>-0.299511</td>\n",
       "      <td>-0.616256</td>\n",
       "      <td>-0.445407</td>\n",
       "      <td>STON/O2. 3101282</td>\n",
       "      <td>-0.488790</td>\n",
       "      <td>NaN</td>\n",
       "      <td>S</td>\n",
       "      <td>1</td>\n",
       "      <td>0</td>\n",
       "    </tr>\n",
       "    <tr>\n",
       "      <th>3</th>\n",
       "      <td>4</td>\n",
       "      <td>1.0</td>\n",
       "      <td>-1.612351</td>\n",
       "      <td>Futrelle, Mrs. Jacques Heath (Lily May Peel)</td>\n",
       "      <td>female</td>\n",
       "      <td>0.400581</td>\n",
       "      <td>0.930628</td>\n",
       "      <td>-0.445407</td>\n",
       "      <td>113803</td>\n",
       "      <td>0.384512</td>\n",
       "      <td>C123</td>\n",
       "      <td>S</td>\n",
       "      <td>1</td>\n",
       "      <td>0</td>\n",
       "    </tr>\n",
       "    <tr>\n",
       "      <th>4</th>\n",
       "      <td>5</td>\n",
       "      <td>0.0</td>\n",
       "      <td>0.807005</td>\n",
       "      <td>Allen, Mr. William Henry</td>\n",
       "      <td>male</td>\n",
       "      <td>0.400581</td>\n",
       "      <td>-0.616256</td>\n",
       "      <td>-0.445407</td>\n",
       "      <td>373450</td>\n",
       "      <td>-0.486373</td>\n",
       "      <td>NaN</td>\n",
       "      <td>S</td>\n",
       "      <td>1</td>\n",
       "      <td>0</td>\n",
       "    </tr>\n",
       "  </tbody>\n",
       "</table>\n",
       "</div>"
      ],
      "text/plain": [
       "   PassengerId  Survived    Pclass  \\\n",
       "0            1       0.0  0.807005   \n",
       "1            2       1.0 -1.612351   \n",
       "2            3       1.0  0.807005   \n",
       "3            4       1.0 -1.612351   \n",
       "4            5       0.0  0.807005   \n",
       "\n",
       "                                                Name     Sex       Age  \\\n",
       "0                            Braund, Mr. Owen Harris    male -0.610663   \n",
       "1  Cumings, Mrs. John Bradley (Florence Briggs Th...  female  0.633944   \n",
       "2                             Heikkinen, Miss. Laina  female -0.299511   \n",
       "3       Futrelle, Mrs. Jacques Heath (Lily May Peel)  female  0.400581   \n",
       "4                           Allen, Mr. William Henry    male  0.400581   \n",
       "\n",
       "      SibSp     Parch            Ticket      Fare Cabin Embarked  train_test  \\\n",
       "0  0.930628 -0.445407         A/5 21171 -0.501839   NaN        S           1   \n",
       "1  0.930628 -0.445407          PC 17599  0.736023   C85        C           1   \n",
       "2 -0.616256 -0.445407  STON/O2. 3101282 -0.488790   NaN        S           1   \n",
       "3  0.930628 -0.445407            113803  0.384512  C123        S           1   \n",
       "4 -0.616256 -0.445407            373450 -0.486373   NaN        S           1   \n",
       "\n",
       "   haveAge  \n",
       "0        0  \n",
       "1        0  \n",
       "2        0  \n",
       "3        0  \n",
       "4        0  "
      ]
     },
     "execution_count": 15,
     "metadata": {},
     "output_type": "execute_result"
    }
   ],
   "source": [
    "df_scaled.head()"
   ]
  },
  {
   "cell_type": "code",
   "execution_count": 16,
   "id": "0888ac0b",
   "metadata": {
    "execution": {
     "iopub.execute_input": "2022-02-04T00:09:29.792660Z",
     "iopub.status.busy": "2022-02-04T00:09:29.792000Z",
     "iopub.status.idle": "2022-02-04T00:09:29.801751Z",
     "shell.execute_reply": "2022-02-04T00:09:29.802328Z",
     "shell.execute_reply.started": "2022-02-03T22:47:42.709366Z"
    },
    "papermill": {
     "duration": 0.040816,
     "end_time": "2022-02-04T00:09:29.802530",
     "exception": false,
     "start_time": "2022-02-04T00:09:29.761714",
     "status": "completed"
    },
    "tags": []
   },
   "outputs": [],
   "source": [
    "melt=pd.melt(df_scaled[(df_scaled['Survived'] == 1)| (df_scaled['Survived'] == 0)][['Survived', 'Age','Pclass', 'SibSp', 'Parch','Fare']],id_vars=\"Survived\", var_name=\"features\", value_name='value')"
   ]
  },
  {
   "cell_type": "code",
   "execution_count": 17,
   "id": "cc8107f0",
   "metadata": {
    "execution": {
     "iopub.execute_input": "2022-02-04T00:09:29.865431Z",
     "iopub.status.busy": "2022-02-04T00:09:29.864601Z",
     "iopub.status.idle": "2022-02-04T00:09:30.216869Z",
     "shell.execute_reply": "2022-02-04T00:09:30.217350Z",
     "shell.execute_reply.started": "2022-02-03T22:58:39.003641Z"
    },
    "papermill": {
     "duration": 0.387642,
     "end_time": "2022-02-04T00:09:30.217544",
     "exception": false,
     "start_time": "2022-02-04T00:09:29.829902",
     "status": "completed"
    },
    "tags": []
   },
   "outputs": [
    {
     "data": {
      "image/png": "[encoded data removed]",
      "text/plain": [
       "<Figure size 720x720 with 1 Axes>"
      ]
     },
     "metadata": {
      "needs_background": "light"
     },
     "output_type": "display_data"
    }
   ],
   "source": [
    "plt.figure(figsize=(10,10))\n",
    "sns.violinplot(x=\"features\", y=\"value\", hue=\"Survived\", data=melt, palette=\"muted\", split=True, inner=\"quart\")\n",
    "plt.show()"
   ]
  },
  {
   "cell_type": "code",
   "execution_count": 18,
   "id": "c03d6ebe",
   "metadata": {
    "execution": {
     "iopub.execute_input": "2022-02-04T00:09:30.282235Z",
     "iopub.status.busy": "2022-02-04T00:09:30.280921Z",
     "iopub.status.idle": "2022-02-04T00:09:30.524279Z",
     "shell.execute_reply": "2022-02-04T00:09:30.524753Z",
     "shell.execute_reply.started": "2022-02-03T22:55:45.958802Z"
    },
    "papermill": {
     "duration": 0.279089,
     "end_time": "2022-02-04T00:09:30.524941",
     "exception": false,
     "start_time": "2022-02-04T00:09:30.245852",
     "status": "completed"
    },
    "tags": []
   },
   "outputs": [
    {
     "data": {
      "image/png": "[encoded data removed]",
      "text/plain": [
       "<Figure size 720x720 with 1 Axes>"
      ]
     },
     "metadata": {
      "needs_background": "light"
     },
     "output_type": "display_data"
    }
   ],
   "source": [
    "plt.figure(figsize=(10,10))\n",
    "sns.boxplot(x=\"features\", y=\"value\", data=melt)\n",
    "plt.show()"
   ]
  },
  {
   "cell_type": "code",
   "execution_count": 19,
   "id": "5d07c4d5",
   "metadata": {
    "execution": {
     "iopub.execute_input": "2022-02-04T00:09:30.598839Z",
     "iopub.status.busy": "2022-02-04T00:09:30.590262Z",
     "iopub.status.idle": "2022-02-04T00:09:30.607517Z",
     "shell.execute_reply": "2022-02-04T00:09:30.608049Z",
     "shell.execute_reply.started": "2022-02-03T23:18:40.570845Z"
    },
    "papermill": {
     "duration": 0.052223,
     "end_time": "2022-02-04T00:09:30.608255",
     "exception": false,
     "start_time": "2022-02-04T00:09:30.556032",
     "status": "completed"
    },
    "tags": []
   },
   "outputs": [
    {
     "data": {
      "text/html": [
       "<div>\n",
       "<style scoped>\n",
       "    .dataframe tbody tr th:only-of-type {\n",
       "        vertical-align: middle;\n",
       "    }\n",
       "\n",
       "    .dataframe tbody tr th {\n",
       "        vertical-align: top;\n",
       "    }\n",
       "\n",
       "    .dataframe thead th {\n",
       "        text-align: right;\n",
       "    }\n",
       "</style>\n",
       "<table border=\"1\" class=\"dataframe\">\n",
       "  <thead>\n",
       "    <tr style=\"text-align: right;\">\n",
       "      <th></th>\n",
       "      <th>PassengerId</th>\n",
       "      <th>Survived</th>\n",
       "      <th>Pclass</th>\n",
       "      <th>Name</th>\n",
       "      <th>Sex</th>\n",
       "      <th>Age</th>\n",
       "      <th>SibSp</th>\n",
       "      <th>Parch</th>\n",
       "      <th>Ticket</th>\n",
       "      <th>Fare</th>\n",
       "      <th>Cabin</th>\n",
       "      <th>Embarked</th>\n",
       "      <th>train_test</th>\n",
       "      <th>haveAge</th>\n",
       "    </tr>\n",
       "  </thead>\n",
       "  <tbody>\n",
       "    <tr>\n",
       "      <th>0</th>\n",
       "      <td>1</td>\n",
       "      <td>0.0</td>\n",
       "      <td>0.807005</td>\n",
       "      <td>Braund, Mr. Owen Harris</td>\n",
       "      <td>male</td>\n",
       "      <td>-0.610663</td>\n",
       "      <td>0.930628</td>\n",
       "      <td>-0.445407</td>\n",
       "      <td>A/5 21171</td>\n",
       "      <td>-0.501839</td>\n",
       "      <td>NaN</td>\n",
       "      <td>S</td>\n",
       "      <td>1</td>\n",
       "      <td>0</td>\n",
       "    </tr>\n",
       "    <tr>\n",
       "      <th>1</th>\n",
       "      <td>2</td>\n",
       "      <td>1.0</td>\n",
       "      <td>-1.612351</td>\n",
       "      <td>Cumings, Mrs. John Bradley (Florence Briggs Th...</td>\n",
       "      <td>female</td>\n",
       "      <td>0.633944</td>\n",
       "      <td>0.930628</td>\n",
       "      <td>-0.445407</td>\n",
       "      <td>PC 17599</td>\n",
       "      <td>0.736023</td>\n",
       "      <td>C85</td>\n",
       "      <td>C</td>\n",
       "      <td>1</td>\n",
       "      <td>0</td>\n",
       "    </tr>\n",
       "    <tr>\n",
       "      <th>2</th>\n",
       "      <td>3</td>\n",
       "      <td>1.0</td>\n",
       "      <td>0.807005</td>\n",
       "      <td>Heikkinen, Miss. Laina</td>\n",
       "      <td>female</td>\n",
       "      <td>-0.299511</td>\n",
       "      <td>-0.616256</td>\n",
       "      <td>-0.445407</td>\n",
       "      <td>STON/O2. 3101282</td>\n",
       "      <td>-0.488790</td>\n",
       "      <td>NaN</td>\n",
       "      <td>S</td>\n",
       "      <td>1</td>\n",
       "      <td>0</td>\n",
       "    </tr>\n",
       "    <tr>\n",
       "      <th>3</th>\n",
       "      <td>4</td>\n",
       "      <td>1.0</td>\n",
       "      <td>-1.612351</td>\n",
       "      <td>Futrelle, Mrs. Jacques Heath (Lily May Peel)</td>\n",
       "      <td>female</td>\n",
       "      <td>0.400581</td>\n",
       "      <td>0.930628</td>\n",
       "      <td>-0.445407</td>\n",
       "      <td>113803</td>\n",
       "      <td>0.384512</td>\n",
       "      <td>C123</td>\n",
       "      <td>S</td>\n",
       "      <td>1</td>\n",
       "      <td>0</td>\n",
       "    </tr>\n",
       "    <tr>\n",
       "      <th>4</th>\n",
       "      <td>5</td>\n",
       "      <td>0.0</td>\n",
       "      <td>0.807005</td>\n",
       "      <td>Allen, Mr. William Henry</td>\n",
       "      <td>male</td>\n",
       "      <td>0.400581</td>\n",
       "      <td>-0.616256</td>\n",
       "      <td>-0.445407</td>\n",
       "      <td>373450</td>\n",
       "      <td>-0.486373</td>\n",
       "      <td>NaN</td>\n",
       "      <td>S</td>\n",
       "      <td>1</td>\n",
       "      <td>0</td>\n",
       "    </tr>\n",
       "  </tbody>\n",
       "</table>\n",
       "</div>"
      ],
      "text/plain": [
       "   PassengerId  Survived    Pclass  \\\n",
       "0            1       0.0  0.807005   \n",
       "1            2       1.0 -1.612351   \n",
       "2            3       1.0  0.807005   \n",
       "3            4       1.0 -1.612351   \n",
       "4            5       0.0  0.807005   \n",
       "\n",
       "                                                Name     Sex       Age  \\\n",
       "0                            Braund, Mr. Owen Harris    male -0.610663   \n",
       "1  Cumings, Mrs. John Bradley (Florence Briggs Th...  female  0.633944   \n",
       "2                             Heikkinen, Miss. Laina  female -0.299511   \n",
       "3       Futrelle, Mrs. Jacques Heath (Lily May Peel)  female  0.400581   \n",
       "4                           Allen, Mr. William Henry    male  0.400581   \n",
       "\n",
       "      SibSp     Parch            Ticket      Fare Cabin Embarked  train_test  \\\n",
       "0  0.930628 -0.445407         A/5 21171 -0.501839   NaN        S           1   \n",
       "1  0.930628 -0.445407          PC 17599  0.736023   C85        C           1   \n",
       "2 -0.616256 -0.445407  STON/O2. 3101282 -0.488790   NaN        S           1   \n",
       "3  0.930628 -0.445407            113803  0.384512  C123        S           1   \n",
       "4 -0.616256 -0.445407            373450 -0.486373   NaN        S           1   \n",
       "\n",
       "   haveAge  \n",
       "0        0  \n",
       "1        0  \n",
       "2        0  \n",
       "3        0  \n",
       "4        0  "
      ]
     },
     "execution_count": 19,
     "metadata": {},
     "output_type": "execute_result"
    }
   ],
   "source": [
    "df_scaled.head()"
   ]
  },
  {
   "cell_type": "code",
   "execution_count": 20,
   "id": "6940b29f",
   "metadata": {
    "execution": {
     "iopub.execute_input": "2022-02-04T00:09:30.670226Z",
     "iopub.status.busy": "2022-02-04T00:09:30.669544Z",
     "iopub.status.idle": "2022-02-04T00:09:30.681358Z",
     "shell.execute_reply": "2022-02-04T00:09:30.681846Z",
     "shell.execute_reply.started": "2022-02-03T23:27:29.835595Z"
    },
    "papermill": {
     "duration": 0.044671,
     "end_time": "2022-02-04T00:09:30.682023",
     "exception": false,
     "start_time": "2022-02-04T00:09:30.637352",
     "status": "completed"
    },
    "tags": []
   },
   "outputs": [],
   "source": [
    "df_dummies=pd.get_dummies(df_scaled[['Pclass','Sex','Age','SibSp','Parch','Fare','Embarked','train_test']])\n",
    "x_train= df_dummies[df_dummies['train_test']==1]\n",
    "x_test= df_dummies[df_dummies['train_test']==0]\n",
    "y_train=df[df['train_test']==1]['Survived']"
   ]
  },
  {
   "cell_type": "code",
   "execution_count": 21,
   "id": "4bf16d4f",
   "metadata": {
    "execution": {
     "iopub.execute_input": "2022-02-04T00:09:30.748950Z",
     "iopub.status.busy": "2022-02-04T00:09:30.748291Z",
     "iopub.status.idle": "2022-02-04T00:09:30.752484Z",
     "shell.execute_reply": "2022-02-04T00:09:30.751784Z",
     "shell.execute_reply.started": "2022-02-03T23:28:23.993520Z"
    },
    "papermill": {
     "duration": 0.039201,
     "end_time": "2022-02-04T00:09:30.752693",
     "exception": false,
     "start_time": "2022-02-04T00:09:30.713492",
     "status": "completed"
    },
    "tags": []
   },
   "outputs": [
    {
     "name": "stdout",
     "output_type": "stream",
     "text": [
      "(889, 11)\n",
      "(889,)\n"
     ]
    }
   ],
   "source": [
    "print(x_train.shape)\n",
    "print(y_train.shape)"
   ]
  },
  {
   "cell_type": "code",
   "execution_count": 22,
   "id": "68f956b2",
   "metadata": {
    "execution": {
     "iopub.execute_input": "2022-02-04T00:09:30.817916Z",
     "iopub.status.busy": "2022-02-04T00:09:30.817301Z",
     "iopub.status.idle": "2022-02-04T00:09:30.986800Z",
     "shell.execute_reply": "2022-02-04T00:09:30.987323Z",
     "shell.execute_reply.started": "2022-02-04T00:06:04.168891Z"
    },
    "papermill": {
     "duration": 0.203395,
     "end_time": "2022-02-04T00:09:30.987513",
     "exception": false,
     "start_time": "2022-02-04T00:09:30.784118",
     "status": "completed"
    },
    "tags": []
   },
   "outputs": [],
   "source": [
    "from sklearn import svm\n",
    "clf = svm.SVC(kernel='rbf')\n",
    "clf.fit(x_train, y_train)\n",
    "yhat = clf.predict(x_test)\n",
    "yhat=yhat.astype(int)"
   ]
  },
  {
   "cell_type": "code",
   "execution_count": 23,
   "id": "058a0de9",
   "metadata": {
    "execution": {
     "iopub.execute_input": "2022-02-04T00:09:31.050992Z",
     "iopub.status.busy": "2022-02-04T00:09:31.050244Z",
     "iopub.status.idle": "2022-02-04T00:09:31.055640Z",
     "shell.execute_reply": "2022-02-04T00:09:31.056174Z",
     "shell.execute_reply.started": "2022-02-04T00:06:07.864067Z"
    },
    "papermill": {
     "duration": 0.03968,
     "end_time": "2022-02-04T00:09:31.056352",
     "exception": false,
     "start_time": "2022-02-04T00:09:31.016672",
     "status": "completed"
    },
    "tags": []
   },
   "outputs": [],
   "source": [
    "final_data = {'PassengerId': df_scaled[df_scaled['train_test']==0].PassengerId, 'Survived': yhat}\n",
    "submission = pd.DataFrame(data=final_data)"
   ]
  },
  {
   "cell_type": "code",
   "execution_count": 24,
   "id": "403fcd63",
   "metadata": {
    "execution": {
     "iopub.execute_input": "2022-02-04T00:09:31.118162Z",
     "iopub.status.busy": "2022-02-04T00:09:31.117478Z",
     "iopub.status.idle": "2022-02-04T00:09:31.124906Z",
     "shell.execute_reply": "2022-02-04T00:09:31.125419Z",
     "shell.execute_reply.started": "2022-02-04T00:06:09.945904Z"
    },
    "papermill": {
     "duration": 0.040069,
     "end_time": "2022-02-04T00:09:31.125734",
     "exception": false,
     "start_time": "2022-02-04T00:09:31.085665",
     "status": "completed"
    },
    "tags": []
   },
   "outputs": [],
   "source": [
    "submission.to_csv('submission.csv', index =False)"
   ]
  }
 ],
 "metadata": {
  "kernelspec": {
   "display_name": "Python 3",
   "language": "python",
   "name": "python3"
  },
  "language_info": {
   "codemirror_mode": {
    "name": "ipython",
    "version": 3
   },
   "file_extension": ".py",
   "mimetype": "text/x-python",
   "name": "python",
   "nbconvert_exporter": "python",
   "pygments_lexer": "ipython3",
   "version": "3.7.12"
  },
  "papermill": {
   "default_parameters": {},
   "duration": 27.10414,
   "end_time": "2022-02-04T00:09:31.968357",
   "environment_variables": {},
   "exception": null,
   "input_path": "__notebook__.ipynb",
   "output_path": "__notebook__.ipynb",
   "parameters": {},
   "start_time": "2022-02-04T00:09:04.864217",
   "version": "2.3.3"
  }
 },
 "nbformat": 4,
 "nbformat_minor": 5
}
