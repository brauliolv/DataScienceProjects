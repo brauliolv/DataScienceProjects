{
 "cells": [
  {
   "cell_type": "markdown",
   "id": "63b5190b",
   "metadata": {
    "button": false,
    "new_sheet": false,
    "papermill": {
     "duration": 0.041391,
     "end_time": "2022-01-19T19:43:12.563251",
     "exception": false,
     "start_time": "2022-01-19T19:43:12.521860",
     "status": "completed"
    },
    "run_control": {
     "read_only": false
    },
    "tags": []
   },
   "source": [
    "<center>\n",
    "    <img src=\"https://cf-courses-data.s3.us.cloud-object-storage.appdomain.cloud/IBMDeveloperSkillsNetwork-ML0101EN-SkillsNetwork/labs/FinalModule_Coursera/images/IDSNlogo.png\" width=\"300\" alt=\"cognitiveclass.ai logo\"  />\n",
    "</center>\n",
    "\n",
    "<h1 align=\"center\"><font size=\"5\">Classification with Python</font></h1>\n"
   ]
  },
  {
   "cell_type": "markdown",
   "id": "199efa98",
   "metadata": {
    "button": false,
    "new_sheet": false,
    "papermill": {
     "duration": 0.047545,
     "end_time": "2022-01-19T19:43:12.660314",
     "exception": false,
     "start_time": "2022-01-19T19:43:12.612769",
     "status": "completed"
    },
    "run_control": {
     "read_only": false
    },
    "tags": []
   },
   "source": [
    "In this notebook we try to practice all the classification algorithms that we have learned in this course.\n",
    "\n",
    "We load a dataset using Pandas library, and apply the following algorithms, and find the best one for this specific dataset by accuracy evaluation methods.\n",
    "\n",
    "Let's first load required libraries:\n"
   ]
  },
  {
   "cell_type": "code",
   "execution_count": 1,
   "id": "13abdd95",
   "metadata": {
    "button": false,
    "execution": {
     "iopub.execute_input": "2022-01-19T19:43:12.745733Z",
     "iopub.status.busy": "2022-01-19T19:43:12.744653Z",
     "iopub.status.idle": "2022-01-19T19:43:13.687471Z",
     "shell.execute_reply": "2022-01-19T19:43:13.688010Z",
     "shell.execute_reply.started": "2022-01-19T19:37:02.594717Z"
    },
    "new_sheet": false,
    "papermill": {
     "duration": 0.98634,
     "end_time": "2022-01-19T19:43:13.688294",
     "exception": false,
     "start_time": "2022-01-19T19:43:12.701954",
     "status": "completed"
    },
    "run_control": {
     "read_only": false
    },
    "tags": []
   },
   "outputs": [],
   "source": [
    "import itertools\n",
    "import numpy as np\n",
    "import matplotlib.pyplot as plt\n",
    "from matplotlib.ticker import NullFormatter\n",
    "import pandas as pd\n",
    "import numpy as np\n",
    "import matplotlib.ticker as ticker\n",
    "from sklearn import preprocessing\n",
    "%matplotlib inline"
   ]
  },
  {
   "cell_type": "markdown",
   "id": "46e6644f",
   "metadata": {
    "button": false,
    "new_sheet": false,
    "papermill": {
     "duration": 0.040565,
     "end_time": "2022-01-19T19:43:13.768912",
     "exception": false,
     "start_time": "2022-01-19T19:43:13.728347",
     "status": "completed"
    },
    "run_control": {
     "read_only": false
    },
    "tags": []
   },
   "source": [
    "### About dataset\n"
   ]
  },
  {
   "cell_type": "markdown",
   "id": "754acd72",
   "metadata": {
    "button": false,
    "new_sheet": false,
    "papermill": {
     "duration": 0.041489,
     "end_time": "2022-01-19T19:43:13.908297",
     "exception": false,
     "start_time": "2022-01-19T19:43:13.866808",
     "status": "completed"
    },
    "run_control": {
     "read_only": false
    },
    "tags": []
   },
   "source": [
    "This dataset is about past loans. The **Loan_train.csv** data set includes details of 346 customers whose loan are already paid off or defaulted. It includes following fields:\n",
    "\n",
    "| Field          | Description                                                                           |\n",
    "| -------------- | ------------------------------------------------------------------------------------- |\n",
    "| Loan_status    | Whether a loan is paid off on in collection                                           |\n",
    "| Principal      | Basic principal loan amount at the                                                    |\n",
    "| Terms          | Origination terms which can be weekly (7 days), biweekly, and monthly payoff schedule |\n",
    "| Effective_date | When the loan got originated and took effects                                         |\n",
    "| Due_date       | Since it’s one-time payoff schedule, each loan has one single due date                |\n",
    "| Age            | Age of applicant                                                                      |\n",
    "| Education      | Education of applicant                                                                |\n",
    "| Gender         | The gender of applicant                                                               |\n"
   ]
  },
  {
   "cell_type": "markdown",
   "id": "96886a48",
   "metadata": {
    "button": false,
    "new_sheet": false,
    "papermill": {
     "duration": 0.040683,
     "end_time": "2022-01-19T19:43:13.990844",
     "exception": false,
     "start_time": "2022-01-19T19:43:13.950161",
     "status": "completed"
    },
    "run_control": {
     "read_only": false
    },
    "tags": []
   },
   "source": [
    "Let's download the dataset\n"
   ]
  },
  {
   "cell_type": "code",
   "execution_count": 2,
   "id": "df9517bf",
   "metadata": {
    "button": false,
    "execution": {
     "iopub.execute_input": "2022-01-19T19:43:14.077930Z",
     "iopub.status.busy": "2022-01-19T19:43:14.076988Z",
     "iopub.status.idle": "2022-01-19T19:43:16.493050Z",
     "shell.execute_reply": "2022-01-19T19:43:16.492346Z",
     "shell.execute_reply.started": "2022-01-19T19:37:06.666444Z"
    },
    "new_sheet": false,
    "papermill": {
     "duration": 2.462029,
     "end_time": "2022-01-19T19:43:16.493191",
     "exception": false,
     "start_time": "2022-01-19T19:43:14.031162",
     "status": "completed"
    },
    "run_control": {
     "read_only": false
    },
    "tags": []
   },
   "outputs": [
    {
     "name": "stdout",
     "output_type": "stream",
     "text": [
      "--2022-01-19 19:43:14--  https://cf-courses-data.s3.us.cloud-object-storage.appdomain.cloud/IBMDeveloperSkillsNetwork-ML0101EN-SkillsNetwork/labs/FinalModule_Coursera/data/loan_train.csv\r\n",
      "Resolving cf-courses-data.s3.us.cloud-object-storage.appdomain.cloud (cf-courses-data.s3.us.cloud-object-storage.appdomain.cloud)... 169.63.118.104\r\n",
      "Connecting to cf-courses-data.s3.us.cloud-object-storage.appdomain.cloud (cf-courses-data.s3.us.cloud-object-storage.appdomain.cloud)|169.63.118.104|:443... connected.\r\n",
      "HTTP request sent, awaiting response... 200 OK\r\n",
      "Length: 23101 (23K) [text/csv]\r\n",
      "Saving to: ‘loan_train.csv’\r\n",
      "\r\n",
      "loan_train.csv      100%[===================>]  22.56K  --.-KB/s    in 0s      \r\n",
      "\r\n",
      "2022-01-19 19:43:16 (224 MB/s) - ‘loan_train.csv’ saved [23101/23101]\r\n",
      "\r\n"
     ]
    }
   ],
   "source": [
    "!wget -O loan_train.csv https://cf-courses-data.s3.us.cloud-object-storage.appdomain.cloud/IBMDeveloperSkillsNetwork-ML0101EN-SkillsNetwork/labs/FinalModule_Coursera/data/loan_train.csv"
   ]
  },
  {
   "cell_type": "markdown",
   "id": "b85f6bde",
   "metadata": {
    "button": false,
    "new_sheet": false,
    "papermill": {
     "duration": 0.041718,
     "end_time": "2022-01-19T19:43:16.577116",
     "exception": false,
     "start_time": "2022-01-19T19:43:16.535398",
     "status": "completed"
    },
    "run_control": {
     "read_only": false
    },
    "tags": []
   },
   "source": [
    "### Load Data From CSV File\n"
   ]
  },
  {
   "cell_type": "code",
   "execution_count": 3,
   "id": "49da546e",
   "metadata": {
    "button": false,
    "execution": {
     "iopub.execute_input": "2022-01-19T19:43:16.666893Z",
     "iopub.status.busy": "2022-01-19T19:43:16.666133Z",
     "iopub.status.idle": "2022-01-19T19:43:16.694182Z",
     "shell.execute_reply": "2022-01-19T19:43:16.694662Z",
     "shell.execute_reply.started": "2022-01-19T19:37:14.497274Z"
    },
    "new_sheet": false,
    "papermill": {
     "duration": 0.075517,
     "end_time": "2022-01-19T19:43:16.694831",
     "exception": false,
     "start_time": "2022-01-19T19:43:16.619314",
     "status": "completed"
    },
    "run_control": {
     "read_only": false
    },
    "tags": []
   },
   "outputs": [
    {
     "data": {
      "text/html": [
       "<div>\n",
       "<style scoped>\n",
       "    .dataframe tbody tr th:only-of-type {\n",
       "        vertical-align: middle;\n",
       "    }\n",
       "\n",
       "    .dataframe tbody tr th {\n",
       "        vertical-align: top;\n",
       "    }\n",
       "\n",
       "    .dataframe thead th {\n",
       "        text-align: right;\n",
       "    }\n",
       "</style>\n",
       "<table border=\"1\" class=\"dataframe\">\n",
       "  <thead>\n",
       "    <tr style=\"text-align: right;\">\n",
       "      <th></th>\n",
       "      <th>Unnamed: 0</th>\n",
       "      <th>Unnamed: 0.1</th>\n",
       "      <th>loan_status</th>\n",
       "      <th>Principal</th>\n",
       "      <th>terms</th>\n",
       "      <th>effective_date</th>\n",
       "      <th>due_date</th>\n",
       "      <th>age</th>\n",
       "      <th>education</th>\n",
       "      <th>Gender</th>\n",
       "    </tr>\n",
       "  </thead>\n",
       "  <tbody>\n",
       "    <tr>\n",
       "      <th>0</th>\n",
       "      <td>0</td>\n",
       "      <td>0</td>\n",
       "      <td>PAIDOFF</td>\n",
       "      <td>1000</td>\n",
       "      <td>30</td>\n",
       "      <td>9/8/2016</td>\n",
       "      <td>10/7/2016</td>\n",
       "      <td>45</td>\n",
       "      <td>High School or Below</td>\n",
       "      <td>male</td>\n",
       "    </tr>\n",
       "    <tr>\n",
       "      <th>1</th>\n",
       "      <td>2</td>\n",
       "      <td>2</td>\n",
       "      <td>PAIDOFF</td>\n",
       "      <td>1000</td>\n",
       "      <td>30</td>\n",
       "      <td>9/8/2016</td>\n",
       "      <td>10/7/2016</td>\n",
       "      <td>33</td>\n",
       "      <td>Bechalor</td>\n",
       "      <td>female</td>\n",
       "    </tr>\n",
       "    <tr>\n",
       "      <th>2</th>\n",
       "      <td>3</td>\n",
       "      <td>3</td>\n",
       "      <td>PAIDOFF</td>\n",
       "      <td>1000</td>\n",
       "      <td>15</td>\n",
       "      <td>9/8/2016</td>\n",
       "      <td>9/22/2016</td>\n",
       "      <td>27</td>\n",
       "      <td>college</td>\n",
       "      <td>male</td>\n",
       "    </tr>\n",
       "    <tr>\n",
       "      <th>3</th>\n",
       "      <td>4</td>\n",
       "      <td>4</td>\n",
       "      <td>PAIDOFF</td>\n",
       "      <td>1000</td>\n",
       "      <td>30</td>\n",
       "      <td>9/9/2016</td>\n",
       "      <td>10/8/2016</td>\n",
       "      <td>28</td>\n",
       "      <td>college</td>\n",
       "      <td>female</td>\n",
       "    </tr>\n",
       "    <tr>\n",
       "      <th>4</th>\n",
       "      <td>6</td>\n",
       "      <td>6</td>\n",
       "      <td>PAIDOFF</td>\n",
       "      <td>1000</td>\n",
       "      <td>30</td>\n",
       "      <td>9/9/2016</td>\n",
       "      <td>10/8/2016</td>\n",
       "      <td>29</td>\n",
       "      <td>college</td>\n",
       "      <td>male</td>\n",
       "    </tr>\n",
       "  </tbody>\n",
       "</table>\n",
       "</div>"
      ],
      "text/plain": [
       "   Unnamed: 0  Unnamed: 0.1 loan_status  Principal  terms effective_date  \\\n",
       "0           0             0     PAIDOFF       1000     30       9/8/2016   \n",
       "1           2             2     PAIDOFF       1000     30       9/8/2016   \n",
       "2           3             3     PAIDOFF       1000     15       9/8/2016   \n",
       "3           4             4     PAIDOFF       1000     30       9/9/2016   \n",
       "4           6             6     PAIDOFF       1000     30       9/9/2016   \n",
       "\n",
       "    due_date  age             education  Gender  \n",
       "0  10/7/2016   45  High School or Below    male  \n",
       "1  10/7/2016   33              Bechalor  female  \n",
       "2  9/22/2016   27               college    male  \n",
       "3  10/8/2016   28               college  female  \n",
       "4  10/8/2016   29               college    male  "
      ]
     },
     "execution_count": 3,
     "metadata": {},
     "output_type": "execute_result"
    }
   ],
   "source": [
    "df = pd.read_csv('loan_train.csv')\n",
    "df.head()"
   ]
  },
  {
   "cell_type": "code",
   "execution_count": 4,
   "id": "90ee19d8",
   "metadata": {
    "execution": {
     "iopub.execute_input": "2022-01-19T19:43:16.782793Z",
     "iopub.status.busy": "2022-01-19T19:43:16.782096Z",
     "iopub.status.idle": "2022-01-19T19:43:16.786878Z",
     "shell.execute_reply": "2022-01-19T19:43:16.787401Z",
     "shell.execute_reply.started": "2022-01-19T19:37:19.229400Z"
    },
    "papermill": {
     "duration": 0.050278,
     "end_time": "2022-01-19T19:43:16.787588",
     "exception": false,
     "start_time": "2022-01-19T19:43:16.737310",
     "status": "completed"
    },
    "tags": []
   },
   "outputs": [
    {
     "data": {
      "text/plain": [
       "(346, 10)"
      ]
     },
     "execution_count": 4,
     "metadata": {},
     "output_type": "execute_result"
    }
   ],
   "source": [
    "df.shape"
   ]
  },
  {
   "cell_type": "markdown",
   "id": "71fb1036",
   "metadata": {
    "button": false,
    "new_sheet": false,
    "papermill": {
     "duration": 0.043126,
     "end_time": "2022-01-19T19:43:16.873912",
     "exception": false,
     "start_time": "2022-01-19T19:43:16.830786",
     "status": "completed"
    },
    "run_control": {
     "read_only": false
    },
    "tags": []
   },
   "source": [
    "### Convert to date time object\n"
   ]
  },
  {
   "cell_type": "code",
   "execution_count": 5,
   "id": "9d3448d5",
   "metadata": {
    "button": false,
    "execution": {
     "iopub.execute_input": "2022-01-19T19:43:16.963757Z",
     "iopub.status.busy": "2022-01-19T19:43:16.963157Z",
     "iopub.status.idle": "2022-01-19T19:43:16.993585Z",
     "shell.execute_reply": "2022-01-19T19:43:16.992974Z",
     "shell.execute_reply.started": "2022-01-19T19:37:20.492478Z"
    },
    "new_sheet": false,
    "papermill": {
     "duration": 0.076369,
     "end_time": "2022-01-19T19:43:16.993721",
     "exception": false,
     "start_time": "2022-01-19T19:43:16.917352",
     "status": "completed"
    },
    "run_control": {
     "read_only": false
    },
    "tags": []
   },
   "outputs": [
    {
     "data": {
      "text/html": [
       "<div>\n",
       "<style scoped>\n",
       "    .dataframe tbody tr th:only-of-type {\n",
       "        vertical-align: middle;\n",
       "    }\n",
       "\n",
       "    .dataframe tbody tr th {\n",
       "        vertical-align: top;\n",
       "    }\n",
       "\n",
       "    .dataframe thead th {\n",
       "        text-align: right;\n",
       "    }\n",
       "</style>\n",
       "<table border=\"1\" class=\"dataframe\">\n",
       "  <thead>\n",
       "    <tr style=\"text-align: right;\">\n",
       "      <th></th>\n",
       "      <th>Unnamed: 0</th>\n",
       "      <th>Unnamed: 0.1</th>\n",
       "      <th>loan_status</th>\n",
       "      <th>Principal</th>\n",
       "      <th>terms</th>\n",
       "      <th>effective_date</th>\n",
       "      <th>due_date</th>\n",
       "      <th>age</th>\n",
       "      <th>education</th>\n",
       "      <th>Gender</th>\n",
       "    </tr>\n",
       "  </thead>\n",
       "  <tbody>\n",
       "    <tr>\n",
       "      <th>0</th>\n",
       "      <td>0</td>\n",
       "      <td>0</td>\n",
       "      <td>PAIDOFF</td>\n",
       "      <td>1000</td>\n",
       "      <td>30</td>\n",
       "      <td>2016-09-08</td>\n",
       "      <td>2016-10-07</td>\n",
       "      <td>45</td>\n",
       "      <td>High School or Below</td>\n",
       "      <td>male</td>\n",
       "    </tr>\n",
       "    <tr>\n",
       "      <th>1</th>\n",
       "      <td>2</td>\n",
       "      <td>2</td>\n",
       "      <td>PAIDOFF</td>\n",
       "      <td>1000</td>\n",
       "      <td>30</td>\n",
       "      <td>2016-09-08</td>\n",
       "      <td>2016-10-07</td>\n",
       "      <td>33</td>\n",
       "      <td>Bechalor</td>\n",
       "      <td>female</td>\n",
       "    </tr>\n",
       "    <tr>\n",
       "      <th>2</th>\n",
       "      <td>3</td>\n",
       "      <td>3</td>\n",
       "      <td>PAIDOFF</td>\n",
       "      <td>1000</td>\n",
       "      <td>15</td>\n",
       "      <td>2016-09-08</td>\n",
       "      <td>2016-09-22</td>\n",
       "      <td>27</td>\n",
       "      <td>college</td>\n",
       "      <td>male</td>\n",
       "    </tr>\n",
       "    <tr>\n",
       "      <th>3</th>\n",
       "      <td>4</td>\n",
       "      <td>4</td>\n",
       "      <td>PAIDOFF</td>\n",
       "      <td>1000</td>\n",
       "      <td>30</td>\n",
       "      <td>2016-09-09</td>\n",
       "      <td>2016-10-08</td>\n",
       "      <td>28</td>\n",
       "      <td>college</td>\n",
       "      <td>female</td>\n",
       "    </tr>\n",
       "    <tr>\n",
       "      <th>4</th>\n",
       "      <td>6</td>\n",
       "      <td>6</td>\n",
       "      <td>PAIDOFF</td>\n",
       "      <td>1000</td>\n",
       "      <td>30</td>\n",
       "      <td>2016-09-09</td>\n",
       "      <td>2016-10-08</td>\n",
       "      <td>29</td>\n",
       "      <td>college</td>\n",
       "      <td>male</td>\n",
       "    </tr>\n",
       "  </tbody>\n",
       "</table>\n",
       "</div>"
      ],
      "text/plain": [
       "   Unnamed: 0  Unnamed: 0.1 loan_status  Principal  terms effective_date  \\\n",
       "0           0             0     PAIDOFF       1000     30     2016-09-08   \n",
       "1           2             2     PAIDOFF       1000     30     2016-09-08   \n",
       "2           3             3     PAIDOFF       1000     15     2016-09-08   \n",
       "3           4             4     PAIDOFF       1000     30     2016-09-09   \n",
       "4           6             6     PAIDOFF       1000     30     2016-09-09   \n",
       "\n",
       "    due_date  age             education  Gender  \n",
       "0 2016-10-07   45  High School or Below    male  \n",
       "1 2016-10-07   33              Bechalor  female  \n",
       "2 2016-09-22   27               college    male  \n",
       "3 2016-10-08   28               college  female  \n",
       "4 2016-10-08   29               college    male  "
      ]
     },
     "execution_count": 5,
     "metadata": {},
     "output_type": "execute_result"
    }
   ],
   "source": [
    "df['due_date'] = pd.to_datetime(df['due_date'])\n",
    "df['effective_date'] = pd.to_datetime(df['effective_date'])\n",
    "df.head()"
   ]
  },
  {
   "cell_type": "markdown",
   "id": "442fdd0d",
   "metadata": {
    "button": false,
    "new_sheet": false,
    "papermill": {
     "duration": 0.043544,
     "end_time": "2022-01-19T19:43:17.080438",
     "exception": false,
     "start_time": "2022-01-19T19:43:17.036894",
     "status": "completed"
    },
    "run_control": {
     "read_only": false
    },
    "tags": []
   },
   "source": [
    "# Data visualization and pre-processing\n"
   ]
  },
  {
   "cell_type": "markdown",
   "id": "2a30dd1f",
   "metadata": {
    "button": false,
    "new_sheet": false,
    "papermill": {
     "duration": 0.043098,
     "end_time": "2022-01-19T19:43:17.166314",
     "exception": false,
     "start_time": "2022-01-19T19:43:17.123216",
     "status": "completed"
    },
    "run_control": {
     "read_only": false
    },
    "tags": []
   },
   "source": [
    "Let’s see how many of each class is in our data set\n"
   ]
  },
  {
   "cell_type": "code",
   "execution_count": 6,
   "id": "dededbfc",
   "metadata": {
    "button": false,
    "execution": {
     "iopub.execute_input": "2022-01-19T19:43:17.256560Z",
     "iopub.status.busy": "2022-01-19T19:43:17.255945Z",
     "iopub.status.idle": "2022-01-19T19:43:17.263755Z",
     "shell.execute_reply": "2022-01-19T19:43:17.264205Z",
     "shell.execute_reply.started": "2022-01-19T19:37:22.965831Z"
    },
    "new_sheet": false,
    "papermill": {
     "duration": 0.054845,
     "end_time": "2022-01-19T19:43:17.264368",
     "exception": false,
     "start_time": "2022-01-19T19:43:17.209523",
     "status": "completed"
    },
    "run_control": {
     "read_only": false
    },
    "tags": []
   },
   "outputs": [
    {
     "data": {
      "text/plain": [
       "PAIDOFF       260\n",
       "COLLECTION     86\n",
       "Name: loan_status, dtype: int64"
      ]
     },
     "execution_count": 6,
     "metadata": {},
     "output_type": "execute_result"
    }
   ],
   "source": [
    "df['loan_status'].value_counts()"
   ]
  },
  {
   "cell_type": "markdown",
   "id": "b7b44ac2",
   "metadata": {
    "button": false,
    "new_sheet": false,
    "papermill": {
     "duration": 0.043623,
     "end_time": "2022-01-19T19:43:17.352328",
     "exception": false,
     "start_time": "2022-01-19T19:43:17.308705",
     "status": "completed"
    },
    "run_control": {
     "read_only": false
    },
    "tags": []
   },
   "source": [
    "260 people have paid off the loan on time while 86 have gone into collection\n"
   ]
  },
  {
   "cell_type": "markdown",
   "id": "e72bd865",
   "metadata": {
    "papermill": {
     "duration": 0.043013,
     "end_time": "2022-01-19T19:43:17.438378",
     "exception": false,
     "start_time": "2022-01-19T19:43:17.395365",
     "status": "completed"
    },
    "tags": []
   },
   "source": [
    "Let's plot some columns to underestand data better:\n"
   ]
  },
  {
   "cell_type": "code",
   "execution_count": 7,
   "id": "79cc3f44",
   "metadata": {
    "execution": {
     "iopub.execute_input": "2022-01-19T19:43:17.530128Z",
     "iopub.status.busy": "2022-01-19T19:43:17.529234Z",
     "iopub.status.idle": "2022-01-19T19:44:17.175324Z",
     "shell.execute_reply": "2022-01-19T19:44:17.175797Z",
     "shell.execute_reply.started": "2022-01-19T19:37:24.483245Z"
    },
    "papermill": {
     "duration": 59.694285,
     "end_time": "2022-01-19T19:44:17.175987",
     "exception": false,
     "start_time": "2022-01-19T19:43:17.481702",
     "status": "completed"
    },
    "tags": []
   },
   "outputs": [
    {
     "name": "stdout",
     "output_type": "stream",
     "text": [
      "Collecting package metadata (current_repodata.json): - \b\b\\ \b\b| \b\b/ \b\b- \b\b\\ \b\b| \b\b/ \b\b- \b\b\\ \b\b| \b\b/ \b\b- \b\b\\ \b\b| \b\b/ \b\b- \b\b\\ \b\b| \b\b/ \b\b- \b\b\\ \b\b| \b\b/ \b\b- \b\b\\ \b\b| \b\b/ \b\b- \b\b\\ \b\b| \b\b/ \b\b- \b\b\\ \b\b| \b\b/ \b\b- \b\b\\ \b\b| \b\b/ \b\b- \b\b\\ \b\b| \b\b/ \b\b- \b\b\\ \b\b| \b\b/ \b\b- \b\b\\ \b\b| \b\b/ \b\b- \b\b\\ \b\b| \b\b/ \b\b- \b\b\\ \b\b| \b\b/ \b\b- \b\b\\ \b\b| \b\b/ \b\b- \b\b\\ \b\b| \b\b/ \b\b- \b\b\\ \b\b| \b\b/ \b\b- \b\b\\ \b\b| \b\b/ \b\b- \b\b\\ \b\b| \b\b/ \b\b- \b\b\\ \b\b| \b\b/ \b\b- \b\b\\ \b\b| \b\b/ \b\b- \b\b\\ \b\b| \b\b/ \b\b- \b\b\\ \b\b| \b\b/ \b\b- \b\b\\ \b\b| \b\b/ \b\b- \b\b\\ \b\b| \b\b/ \b\b- \b\b\\ \b\b| \b\b/ \b\b- \b\b\\ \b\b| \b\b/ \b\b- \b\b\\ \b\b| \b\b/ \b\b- \b\b\\ \b\b| \b\b/ \b\b- \b\b\\ \b\b| \b\b/ \b\b- \b\b\\ \b\b| \b\bdone\r\n",
      "Solving environment: - \b\b\\ \b\b| \b\b/ \b\b- \b\b\\ \b\b| \b\b/ \b\b- \b\b\\ \b\b| \b\b/ \b\b- \b\b\\ \b\b| \b\b/ \b\b- \b\b\\ \b\b| \b\b/ \b\b- \b\b\\ \b\b| \b\b/ \b\b- \b\b\\ \b\b| \b\b/ \b\b- \b\b\\ \b\b| \b\b/ \b\b- \b\b\\ \b\b| \b\b/ \b\b- \b\b\\ \b\b| \b\b/ \b\b- \b\b\\ \b\b| \b\b/ \b\b- \b\b\\ \b\b| \b\b/ \b\b- \b\b\\ \b\b| \b\b/ \b\b- \b\b\\ \b\b| \b\b/ \b\b- \b\b\\ \b\b| \b\b/ \b\b- \b\b\\ \b\b| \b\b/ \b\b- \b\bdone\r\n",
      "\r\n",
      "## Package Plan ##\r\n",
      "\r\n",
      "  environment location: /opt/conda\r\n",
      "\r\n",
      "  added / updated specs:\r\n",
      "    - seaborn\r\n",
      "\r\n",
      "\r\n",
      "The following packages will be downloaded:\r\n",
      "\r\n",
      "    package                    |            build\r\n",
      "    ---------------------------|-----------------\r\n",
      "    ca-certificates-2020.10.14 |                0         128 KB  anaconda\r\n",
      "    certifi-2020.6.20          |           py37_0         159 KB  anaconda\r\n",
      "    conda-4.11.0               |   py37h89c1867_0        16.9 MB  conda-forge\r\n",
      "    matplotlib-3.4.3           |   py37h89c1867_2           7 KB  conda-forge\r\n",
      "    pyqt-5.12.3                |   py37h89c1867_8          22 KB  conda-forge\r\n",
      "    pyqt-impl-5.12.3           |   py37hac37412_8         5.9 MB  conda-forge\r\n",
      "    pyqt5-sip-4.19.18          |   py37hcd2ae1e_8         310 KB  conda-forge\r\n",
      "    pyqtchart-5.12             |   py37he336c9b_8         257 KB  conda-forge\r\n",
      "    pyqtwebengine-5.12.1       |   py37he336c9b_8         175 KB  conda-forge\r\n",
      "    seaborn-0.11.0             |             py_0         216 KB  anaconda\r\n",
      "    ------------------------------------------------------------\r\n",
      "                                           Total:        24.1 MB\r\n",
      "\r\n",
      "The following NEW packages will be INSTALLED:\r\n",
      "\r\n",
      "  matplotlib         conda-forge/linux-64::matplotlib-3.4.3-py37h89c1867_2\r\n",
      "  pyqt               conda-forge/linux-64::pyqt-5.12.3-py37h89c1867_8\r\n",
      "  pyqt-impl          conda-forge/linux-64::pyqt-impl-5.12.3-py37hac37412_8\r\n",
      "  pyqt5-sip          conda-forge/linux-64::pyqt5-sip-4.19.18-py37hcd2ae1e_8\r\n",
      "  pyqtchart          conda-forge/linux-64::pyqtchart-5.12-py37he336c9b_8\r\n",
      "  pyqtwebengine      conda-forge/linux-64::pyqtwebengine-5.12.1-py37he336c9b_8\r\n",
      "\r\n",
      "The following packages will be UPDATED:\r\n",
      "\r\n",
      "  conda                               4.10.3-py37h89c1867_2 --> 4.11.0-py37h89c1867_0\r\n",
      "\r\n",
      "The following packages will be SUPERSEDED by a higher-priority channel:\r\n",
      "\r\n",
      "  ca-certificates    conda-forge::ca-certificates-2021.10.~ --> anaconda::ca-certificates-2020.10.14-0\r\n",
      "  certifi            conda-forge::certifi-2021.10.8-py37h8~ --> anaconda::certifi-2020.6.20-py37_0\r\n",
      "  seaborn            conda-forge::seaborn-0.11.2-hd8ed1ab_0 --> anaconda::seaborn-0.11.0-py_0\r\n",
      "\r\n",
      "\r\n",
      "\r\n",
      "Downloading and Extracting Packages\r\n",
      "pyqt5-sip-4.19.18    | 310 KB    | ##################################### | 100% \r\n",
      "matplotlib-3.4.3     | 7 KB      | ##################################### | 100% \r\n",
      "pyqt-5.12.3          | 22 KB     | ##################################### | 100% \r\n",
      "conda-4.11.0         | 16.9 MB   | ##################################### | 100% \r\n",
      "pyqtchart-5.12       | 257 KB    | ##################################### | 100% \r\n",
      "pyqt-impl-5.12.3     | 5.9 MB    | ##################################### | 100% \r\n",
      "pyqtwebengine-5.12.1 | 175 KB    | ##################################### | 100% \r\n",
      "ca-certificates-2020 | 128 KB    | ##################################### | 100% \r\n",
      "certifi-2020.6.20    | 159 KB    | ##################################### | 100% \r\n",
      "seaborn-0.11.0       | 216 KB    | ##################################### | 100% \r\n",
      "Preparing transaction: | \b\bdone\r\n",
      "Verifying transaction: - \b\b\\ \b\b| \b\bdone\r\n",
      "Executing transaction: - \b\b\\ \b\b| \b\b/ \b\b- \b\b\\ \b\b| \b\b/ \b\b- \b\b\\ \b\b| \b\b/ \b\b- \b\b\\ \b\b| \b\b/ \b\b- \b\b\\ \b\b| \b\b/ \b\b- \b\b\\ \b\b| \b\b/ \b\b- \b\b\\ \b\b| \b\b/ \b\b- \b\b\\ \b\b| \b\b/ \b\b- \b\b\\ \b\b| \b\b/ \b\b- \b\b\\ \b\b| \b\b/ \b\b- \b\b\\ \b\b| \b\b/ \b\b- \b\bdone\r\n"
     ]
    }
   ],
   "source": [
    "# notice: installing seaborn might takes a few minutes\n",
    "!conda install -c anaconda seaborn -y"
   ]
  },
  {
   "cell_type": "code",
   "execution_count": 8,
   "id": "18a52377",
   "metadata": {
    "execution": {
     "iopub.execute_input": "2022-01-19T19:44:17.386592Z",
     "iopub.status.busy": "2022-01-19T19:44:17.385917Z",
     "iopub.status.idle": "2022-01-19T19:44:18.142436Z",
     "shell.execute_reply": "2022-01-19T19:44:18.141944Z",
     "shell.execute_reply.started": "2022-01-19T19:39:58.178444Z"
    },
    "papermill": {
     "duration": 0.864206,
     "end_time": "2022-01-19T19:44:18.142593",
     "exception": false,
     "start_time": "2022-01-19T19:44:17.278387",
     "status": "completed"
    },
    "tags": []
   },
   "outputs": [
    {
     "data": {
      "image/png": "[encoded data removed]",
      "text/plain": [
       "<Figure size 432x216 with 2 Axes>"
      ]
     },
     "metadata": {
      "needs_background": "light"
     },
     "output_type": "display_data"
    }
   ],
   "source": [
    "import seaborn as sns\n",
    "\n",
    "bins = np.linspace(df.Principal.min(), df.Principal.max(), 10)\n",
    "g = sns.FacetGrid(df, col=\"Gender\", hue=\"loan_status\", palette=\"Set1\", col_wrap=2)\n",
    "g.map(plt.hist, 'Principal', bins=bins, ec=\"k\")\n",
    "\n",
    "g.axes[-1].legend()\n",
    "plt.show()"
   ]
  },
  {
   "cell_type": "code",
   "execution_count": 9,
   "id": "333d1164",
   "metadata": {
    "button": false,
    "execution": {
     "iopub.execute_input": "2022-01-19T19:44:18.352586Z",
     "iopub.status.busy": "2022-01-19T19:44:18.351935Z",
     "iopub.status.idle": "2022-01-19T19:44:18.796358Z",
     "shell.execute_reply": "2022-01-19T19:44:18.795754Z",
     "shell.execute_reply.started": "2022-01-19T19:40:01.421654Z"
    },
    "new_sheet": false,
    "papermill": {
     "duration": 0.550283,
     "end_time": "2022-01-19T19:44:18.796494",
     "exception": false,
     "start_time": "2022-01-19T19:44:18.246211",
     "status": "completed"
    },
    "run_control": {
     "read_only": false
    },
    "tags": []
   },
   "outputs": [
    {
     "data": {
      "image/png": "[encoded data removed]",
      "text/plain": [
       "<Figure size 432x216 with 2 Axes>"
      ]
     },
     "metadata": {
      "needs_background": "light"
     },
     "output_type": "display_data"
    }
   ],
   "source": [
    "bins = np.linspace(df.age.min(), df.age.max(), 10)\n",
    "g = sns.FacetGrid(df, col=\"Gender\", hue=\"loan_status\", palette=\"Set1\", col_wrap=2)\n",
    "g.map(plt.hist, 'age', bins=bins, ec=\"k\")\n",
    "\n",
    "g.axes[-1].legend()\n",
    "plt.show()"
   ]
  },
  {
   "cell_type": "markdown",
   "id": "54f9cda7",
   "metadata": {
    "button": false,
    "new_sheet": false,
    "papermill": {
     "duration": 0.103344,
     "end_time": "2022-01-19T19:44:19.002984",
     "exception": false,
     "start_time": "2022-01-19T19:44:18.899640",
     "status": "completed"
    },
    "run_control": {
     "read_only": false
    },
    "tags": []
   },
   "source": [
    "# Pre-processing:  Feature selection/extraction\n"
   ]
  },
  {
   "cell_type": "markdown",
   "id": "cd2c16d7",
   "metadata": {
    "button": false,
    "new_sheet": false,
    "papermill": {
     "duration": 0.104042,
     "end_time": "2022-01-19T19:44:19.211301",
     "exception": false,
     "start_time": "2022-01-19T19:44:19.107259",
     "status": "completed"
    },
    "run_control": {
     "read_only": false
    },
    "tags": []
   },
   "source": [
    "### Let's look at the day of the week people get the loan\n"
   ]
  },
  {
   "cell_type": "code",
   "execution_count": 10,
   "id": "ca010beb",
   "metadata": {
    "button": false,
    "execution": {
     "iopub.execute_input": "2022-01-19T19:44:19.430427Z",
     "iopub.status.busy": "2022-01-19T19:44:19.428379Z",
     "iopub.status.idle": "2022-01-19T19:44:19.881863Z",
     "shell.execute_reply": "2022-01-19T19:44:19.880796Z",
     "shell.execute_reply.started": "2022-01-19T19:40:03.780100Z"
    },
    "new_sheet": false,
    "papermill": {
     "duration": 0.566358,
     "end_time": "2022-01-19T19:44:19.882099",
     "exception": false,
     "start_time": "2022-01-19T19:44:19.315741",
     "status": "completed"
    },
    "run_control": {
     "read_only": false
    },
    "tags": []
   },
   "outputs": [
    {
     "data": {
      "image/png": "[encoded data removed]",
      "text/plain": [
       "<Figure size 432x216 with 2 Axes>"
      ]
     },
     "metadata": {
      "needs_background": "light"
     },
     "output_type": "display_data"
    }
   ],
   "source": [
    "df['dayofweek'] = df['effective_date'].dt.dayofweek\n",
    "bins = np.linspace(df.dayofweek.min(), df.dayofweek.max(), 10)\n",
    "g = sns.FacetGrid(df, col=\"Gender\", hue=\"loan_status\", palette=\"Set1\", col_wrap=2)\n",
    "g.map(plt.hist, 'dayofweek', bins=bins, ec=\"k\")\n",
    "g.axes[-1].legend()\n",
    "plt.show()\n"
   ]
  },
  {
   "cell_type": "markdown",
   "id": "cbb6c6ce",
   "metadata": {
    "button": false,
    "new_sheet": false,
    "papermill": {
     "duration": 0.104248,
     "end_time": "2022-01-19T19:44:20.091621",
     "exception": false,
     "start_time": "2022-01-19T19:44:19.987373",
     "status": "completed"
    },
    "run_control": {
     "read_only": false
    },
    "tags": []
   },
   "source": [
    "We see that people who get the loan at the end of the week don't pay it off, so let's use Feature binarization to set a threshold value less than day 4\n"
   ]
  },
  {
   "cell_type": "code",
   "execution_count": 11,
   "id": "62676bb2",
   "metadata": {
    "button": false,
    "execution": {
     "iopub.execute_input": "2022-01-19T19:44:20.309513Z",
     "iopub.status.busy": "2022-01-19T19:44:20.308843Z",
     "iopub.status.idle": "2022-01-19T19:44:20.320293Z",
     "shell.execute_reply": "2022-01-19T19:44:20.320728Z",
     "shell.execute_reply.started": "2022-01-19T19:40:06.011607Z"
    },
    "new_sheet": false,
    "papermill": {
     "duration": 0.122836,
     "end_time": "2022-01-19T19:44:20.320908",
     "exception": false,
     "start_time": "2022-01-19T19:44:20.198072",
     "status": "completed"
    },
    "run_control": {
     "read_only": false
    },
    "tags": []
   },
   "outputs": [
    {
     "data": {
      "text/html": [
       "<div>\n",
       "<style scoped>\n",
       "    .dataframe tbody tr th:only-of-type {\n",
       "        vertical-align: middle;\n",
       "    }\n",
       "\n",
       "    .dataframe tbody tr th {\n",
       "        vertical-align: top;\n",
       "    }\n",
       "\n",
       "    .dataframe thead th {\n",
       "        text-align: right;\n",
       "    }\n",
       "</style>\n",
       "<table border=\"1\" class=\"dataframe\">\n",
       "  <thead>\n",
       "    <tr style=\"text-align: right;\">\n",
       "      <th></th>\n",
       "      <th>Unnamed: 0</th>\n",
       "      <th>Unnamed: 0.1</th>\n",
       "      <th>loan_status</th>\n",
       "      <th>Principal</th>\n",
       "      <th>terms</th>\n",
       "      <th>effective_date</th>\n",
       "      <th>due_date</th>\n",
       "      <th>age</th>\n",
       "      <th>education</th>\n",
       "      <th>Gender</th>\n",
       "      <th>dayofweek</th>\n",
       "      <th>weekend</th>\n",
       "    </tr>\n",
       "  </thead>\n",
       "  <tbody>\n",
       "    <tr>\n",
       "      <th>0</th>\n",
       "      <td>0</td>\n",
       "      <td>0</td>\n",
       "      <td>PAIDOFF</td>\n",
       "      <td>1000</td>\n",
       "      <td>30</td>\n",
       "      <td>2016-09-08</td>\n",
       "      <td>2016-10-07</td>\n",
       "      <td>45</td>\n",
       "      <td>High School or Below</td>\n",
       "      <td>male</td>\n",
       "      <td>3</td>\n",
       "      <td>0</td>\n",
       "    </tr>\n",
       "    <tr>\n",
       "      <th>1</th>\n",
       "      <td>2</td>\n",
       "      <td>2</td>\n",
       "      <td>PAIDOFF</td>\n",
       "      <td>1000</td>\n",
       "      <td>30</td>\n",
       "      <td>2016-09-08</td>\n",
       "      <td>2016-10-07</td>\n",
       "      <td>33</td>\n",
       "      <td>Bechalor</td>\n",
       "      <td>female</td>\n",
       "      <td>3</td>\n",
       "      <td>0</td>\n",
       "    </tr>\n",
       "    <tr>\n",
       "      <th>2</th>\n",
       "      <td>3</td>\n",
       "      <td>3</td>\n",
       "      <td>PAIDOFF</td>\n",
       "      <td>1000</td>\n",
       "      <td>15</td>\n",
       "      <td>2016-09-08</td>\n",
       "      <td>2016-09-22</td>\n",
       "      <td>27</td>\n",
       "      <td>college</td>\n",
       "      <td>male</td>\n",
       "      <td>3</td>\n",
       "      <td>0</td>\n",
       "    </tr>\n",
       "    <tr>\n",
       "      <th>3</th>\n",
       "      <td>4</td>\n",
       "      <td>4</td>\n",
       "      <td>PAIDOFF</td>\n",
       "      <td>1000</td>\n",
       "      <td>30</td>\n",
       "      <td>2016-09-09</td>\n",
       "      <td>2016-10-08</td>\n",
       "      <td>28</td>\n",
       "      <td>college</td>\n",
       "      <td>female</td>\n",
       "      <td>4</td>\n",
       "      <td>1</td>\n",
       "    </tr>\n",
       "    <tr>\n",
       "      <th>4</th>\n",
       "      <td>6</td>\n",
       "      <td>6</td>\n",
       "      <td>PAIDOFF</td>\n",
       "      <td>1000</td>\n",
       "      <td>30</td>\n",
       "      <td>2016-09-09</td>\n",
       "      <td>2016-10-08</td>\n",
       "      <td>29</td>\n",
       "      <td>college</td>\n",
       "      <td>male</td>\n",
       "      <td>4</td>\n",
       "      <td>1</td>\n",
       "    </tr>\n",
       "  </tbody>\n",
       "</table>\n",
       "</div>"
      ],
      "text/plain": [
       "   Unnamed: 0  Unnamed: 0.1 loan_status  Principal  terms effective_date  \\\n",
       "0           0             0     PAIDOFF       1000     30     2016-09-08   \n",
       "1           2             2     PAIDOFF       1000     30     2016-09-08   \n",
       "2           3             3     PAIDOFF       1000     15     2016-09-08   \n",
       "3           4             4     PAIDOFF       1000     30     2016-09-09   \n",
       "4           6             6     PAIDOFF       1000     30     2016-09-09   \n",
       "\n",
       "    due_date  age             education  Gender  dayofweek  weekend  \n",
       "0 2016-10-07   45  High School or Below    male          3        0  \n",
       "1 2016-10-07   33              Bechalor  female          3        0  \n",
       "2 2016-09-22   27               college    male          3        0  \n",
       "3 2016-10-08   28               college  female          4        1  \n",
       "4 2016-10-08   29               college    male          4        1  "
      ]
     },
     "execution_count": 11,
     "metadata": {},
     "output_type": "execute_result"
    }
   ],
   "source": [
    "df['weekend'] = df['dayofweek'].apply(lambda x: 1 if (x>3)  else 0)\n",
    "df.head()"
   ]
  },
  {
   "cell_type": "markdown",
   "id": "c9e8b880",
   "metadata": {
    "button": false,
    "new_sheet": false,
    "papermill": {
     "duration": 0.103676,
     "end_time": "2022-01-19T19:44:20.528694",
     "exception": false,
     "start_time": "2022-01-19T19:44:20.425018",
     "status": "completed"
    },
    "run_control": {
     "read_only": false
    },
    "tags": []
   },
   "source": [
    "## Convert Categorical features to numerical values\n"
   ]
  },
  {
   "cell_type": "markdown",
   "id": "5dce029c",
   "metadata": {
    "button": false,
    "new_sheet": false,
    "papermill": {
     "duration": 0.115418,
     "end_time": "2022-01-19T19:44:20.769961",
     "exception": false,
     "start_time": "2022-01-19T19:44:20.654543",
     "status": "completed"
    },
    "run_control": {
     "read_only": false
    },
    "tags": []
   },
   "source": [
    "Let's look at gender:\n"
   ]
  },
  {
   "cell_type": "code",
   "execution_count": 12,
   "id": "2ff72dcc",
   "metadata": {
    "button": false,
    "execution": {
     "iopub.execute_input": "2022-01-19T19:44:20.984788Z",
     "iopub.status.busy": "2022-01-19T19:44:20.983873Z",
     "iopub.status.idle": "2022-01-19T19:44:20.995975Z",
     "shell.execute_reply": "2022-01-19T19:44:20.996582Z",
     "shell.execute_reply.started": "2022-01-19T19:40:10.017745Z"
    },
    "new_sheet": false,
    "papermill": {
     "duration": 0.120713,
     "end_time": "2022-01-19T19:44:20.996756",
     "exception": false,
     "start_time": "2022-01-19T19:44:20.876043",
     "status": "completed"
    },
    "run_control": {
     "read_only": false
    },
    "tags": []
   },
   "outputs": [
    {
     "data": {
      "text/plain": [
       "Gender  loan_status\n",
       "female  PAIDOFF        0.865385\n",
       "        COLLECTION     0.134615\n",
       "male    PAIDOFF        0.731293\n",
       "        COLLECTION     0.268707\n",
       "Name: loan_status, dtype: float64"
      ]
     },
     "execution_count": 12,
     "metadata": {},
     "output_type": "execute_result"
    }
   ],
   "source": [
    "df.groupby(['Gender'])['loan_status'].value_counts(normalize=True)"
   ]
  },
  {
   "cell_type": "markdown",
   "id": "2c19fbb6",
   "metadata": {
    "button": false,
    "new_sheet": false,
    "papermill": {
     "duration": 0.103955,
     "end_time": "2022-01-19T19:44:21.207912",
     "exception": false,
     "start_time": "2022-01-19T19:44:21.103957",
     "status": "completed"
    },
    "run_control": {
     "read_only": false
    },
    "tags": []
   },
   "source": [
    "86 % of female pay there loans while only 73 % of males pay there loan\n"
   ]
  },
  {
   "cell_type": "markdown",
   "id": "e37182ca",
   "metadata": {
    "button": false,
    "new_sheet": false,
    "papermill": {
     "duration": 0.103366,
     "end_time": "2022-01-19T19:44:21.414646",
     "exception": false,
     "start_time": "2022-01-19T19:44:21.311280",
     "status": "completed"
    },
    "run_control": {
     "read_only": false
    },
    "tags": []
   },
   "source": [
    "Let's convert male to 0 and female to 1:\n"
   ]
  },
  {
   "cell_type": "code",
   "execution_count": 13,
   "id": "f8960e42",
   "metadata": {
    "button": false,
    "execution": {
     "iopub.execute_input": "2022-01-19T19:44:21.626793Z",
     "iopub.status.busy": "2022-01-19T19:44:21.625830Z",
     "iopub.status.idle": "2022-01-19T19:44:21.640691Z",
     "shell.execute_reply": "2022-01-19T19:44:21.641155Z",
     "shell.execute_reply.started": "2022-01-19T19:40:13.070369Z"
    },
    "new_sheet": false,
    "papermill": {
     "duration": 0.122089,
     "end_time": "2022-01-19T19:44:21.641319",
     "exception": false,
     "start_time": "2022-01-19T19:44:21.519230",
     "status": "completed"
    },
    "run_control": {
     "read_only": false
    },
    "tags": []
   },
   "outputs": [
    {
     "data": {
      "text/html": [
       "<div>\n",
       "<style scoped>\n",
       "    .dataframe tbody tr th:only-of-type {\n",
       "        vertical-align: middle;\n",
       "    }\n",
       "\n",
       "    .dataframe tbody tr th {\n",
       "        vertical-align: top;\n",
       "    }\n",
       "\n",
       "    .dataframe thead th {\n",
       "        text-align: right;\n",
       "    }\n",
       "</style>\n",
       "<table border=\"1\" class=\"dataframe\">\n",
       "  <thead>\n",
       "    <tr style=\"text-align: right;\">\n",
       "      <th></th>\n",
       "      <th>Unnamed: 0</th>\n",
       "      <th>Unnamed: 0.1</th>\n",
       "      <th>loan_status</th>\n",
       "      <th>Principal</th>\n",
       "      <th>terms</th>\n",
       "      <th>effective_date</th>\n",
       "      <th>due_date</th>\n",
       "      <th>age</th>\n",
       "      <th>education</th>\n",
       "      <th>Gender</th>\n",
       "      <th>dayofweek</th>\n",
       "      <th>weekend</th>\n",
       "    </tr>\n",
       "  </thead>\n",
       "  <tbody>\n",
       "    <tr>\n",
       "      <th>0</th>\n",
       "      <td>0</td>\n",
       "      <td>0</td>\n",
       "      <td>PAIDOFF</td>\n",
       "      <td>1000</td>\n",
       "      <td>30</td>\n",
       "      <td>2016-09-08</td>\n",
       "      <td>2016-10-07</td>\n",
       "      <td>45</td>\n",
       "      <td>High School or Below</td>\n",
       "      <td>0</td>\n",
       "      <td>3</td>\n",
       "      <td>0</td>\n",
       "    </tr>\n",
       "    <tr>\n",
       "      <th>1</th>\n",
       "      <td>2</td>\n",
       "      <td>2</td>\n",
       "      <td>PAIDOFF</td>\n",
       "      <td>1000</td>\n",
       "      <td>30</td>\n",
       "      <td>2016-09-08</td>\n",
       "      <td>2016-10-07</td>\n",
       "      <td>33</td>\n",
       "      <td>Bechalor</td>\n",
       "      <td>1</td>\n",
       "      <td>3</td>\n",
       "      <td>0</td>\n",
       "    </tr>\n",
       "    <tr>\n",
       "      <th>2</th>\n",
       "      <td>3</td>\n",
       "      <td>3</td>\n",
       "      <td>PAIDOFF</td>\n",
       "      <td>1000</td>\n",
       "      <td>15</td>\n",
       "      <td>2016-09-08</td>\n",
       "      <td>2016-09-22</td>\n",
       "      <td>27</td>\n",
       "      <td>college</td>\n",
       "      <td>0</td>\n",
       "      <td>3</td>\n",
       "      <td>0</td>\n",
       "    </tr>\n",
       "    <tr>\n",
       "      <th>3</th>\n",
       "      <td>4</td>\n",
       "      <td>4</td>\n",
       "      <td>PAIDOFF</td>\n",
       "      <td>1000</td>\n",
       "      <td>30</td>\n",
       "      <td>2016-09-09</td>\n",
       "      <td>2016-10-08</td>\n",
       "      <td>28</td>\n",
       "      <td>college</td>\n",
       "      <td>1</td>\n",
       "      <td>4</td>\n",
       "      <td>1</td>\n",
       "    </tr>\n",
       "    <tr>\n",
       "      <th>4</th>\n",
       "      <td>6</td>\n",
       "      <td>6</td>\n",
       "      <td>PAIDOFF</td>\n",
       "      <td>1000</td>\n",
       "      <td>30</td>\n",
       "      <td>2016-09-09</td>\n",
       "      <td>2016-10-08</td>\n",
       "      <td>29</td>\n",
       "      <td>college</td>\n",
       "      <td>0</td>\n",
       "      <td>4</td>\n",
       "      <td>1</td>\n",
       "    </tr>\n",
       "  </tbody>\n",
       "</table>\n",
       "</div>"
      ],
      "text/plain": [
       "   Unnamed: 0  Unnamed: 0.1 loan_status  Principal  terms effective_date  \\\n",
       "0           0             0     PAIDOFF       1000     30     2016-09-08   \n",
       "1           2             2     PAIDOFF       1000     30     2016-09-08   \n",
       "2           3             3     PAIDOFF       1000     15     2016-09-08   \n",
       "3           4             4     PAIDOFF       1000     30     2016-09-09   \n",
       "4           6             6     PAIDOFF       1000     30     2016-09-09   \n",
       "\n",
       "    due_date  age             education  Gender  dayofweek  weekend  \n",
       "0 2016-10-07   45  High School or Below       0          3        0  \n",
       "1 2016-10-07   33              Bechalor       1          3        0  \n",
       "2 2016-09-22   27               college       0          3        0  \n",
       "3 2016-10-08   28               college       1          4        1  \n",
       "4 2016-10-08   29               college       0          4        1  "
      ]
     },
     "execution_count": 13,
     "metadata": {},
     "output_type": "execute_result"
    }
   ],
   "source": [
    "df['Gender'].replace(to_replace=['male','female'], value=[0,1],inplace=True)\n",
    "df.head()"
   ]
  },
  {
   "cell_type": "markdown",
   "id": "bc5664c7",
   "metadata": {
    "button": false,
    "new_sheet": false,
    "papermill": {
     "duration": 0.104319,
     "end_time": "2022-01-19T19:44:21.849904",
     "exception": false,
     "start_time": "2022-01-19T19:44:21.745585",
     "status": "completed"
    },
    "run_control": {
     "read_only": false
    },
    "tags": []
   },
   "source": [
    "## One Hot Encoding\n",
    "\n",
    "#### How about education?\n"
   ]
  },
  {
   "cell_type": "code",
   "execution_count": 14,
   "id": "5f763dbc",
   "metadata": {
    "button": false,
    "execution": {
     "iopub.execute_input": "2022-01-19T19:44:22.067171Z",
     "iopub.status.busy": "2022-01-19T19:44:22.066182Z",
     "iopub.status.idle": "2022-01-19T19:44:22.073162Z",
     "shell.execute_reply": "2022-01-19T19:44:22.073767Z",
     "shell.execute_reply.started": "2022-01-19T19:40:14.275524Z"
    },
    "new_sheet": false,
    "papermill": {
     "duration": 0.118236,
     "end_time": "2022-01-19T19:44:22.073934",
     "exception": false,
     "start_time": "2022-01-19T19:44:21.955698",
     "status": "completed"
    },
    "run_control": {
     "read_only": false
    },
    "tags": []
   },
   "outputs": [
    {
     "data": {
      "text/plain": [
       "education             loan_status\n",
       "Bechalor              PAIDOFF        0.750000\n",
       "                      COLLECTION     0.250000\n",
       "High School or Below  PAIDOFF        0.741722\n",
       "                      COLLECTION     0.258278\n",
       "Master or Above       COLLECTION     0.500000\n",
       "                      PAIDOFF        0.500000\n",
       "college               PAIDOFF        0.765101\n",
       "                      COLLECTION     0.234899\n",
       "Name: loan_status, dtype: float64"
      ]
     },
     "execution_count": 14,
     "metadata": {},
     "output_type": "execute_result"
    }
   ],
   "source": [
    "df.groupby(['education'])['loan_status'].value_counts(normalize=True)"
   ]
  },
  {
   "cell_type": "markdown",
   "id": "1ed4dde8",
   "metadata": {
    "button": false,
    "new_sheet": false,
    "papermill": {
     "duration": 0.105139,
     "end_time": "2022-01-19T19:44:22.286315",
     "exception": false,
     "start_time": "2022-01-19T19:44:22.181176",
     "status": "completed"
    },
    "run_control": {
     "read_only": false
    },
    "tags": []
   },
   "source": [
    "#### Features before One Hot Encoding\n"
   ]
  },
  {
   "cell_type": "code",
   "execution_count": 15,
   "id": "8d48fce5",
   "metadata": {
    "button": false,
    "execution": {
     "iopub.execute_input": "2022-01-19T19:44:22.500448Z",
     "iopub.status.busy": "2022-01-19T19:44:22.499491Z",
     "iopub.status.idle": "2022-01-19T19:44:22.509939Z",
     "shell.execute_reply": "2022-01-19T19:44:22.510389Z",
     "shell.execute_reply.started": "2022-01-19T19:40:15.347513Z"
    },
    "new_sheet": false,
    "papermill": {
     "duration": 0.118911,
     "end_time": "2022-01-19T19:44:22.510593",
     "exception": false,
     "start_time": "2022-01-19T19:44:22.391682",
     "status": "completed"
    },
    "run_control": {
     "read_only": false
    },
    "tags": []
   },
   "outputs": [
    {
     "data": {
      "text/html": [
       "<div>\n",
       "<style scoped>\n",
       "    .dataframe tbody tr th:only-of-type {\n",
       "        vertical-align: middle;\n",
       "    }\n",
       "\n",
       "    .dataframe tbody tr th {\n",
       "        vertical-align: top;\n",
       "    }\n",
       "\n",
       "    .dataframe thead th {\n",
       "        text-align: right;\n",
       "    }\n",
       "</style>\n",
       "<table border=\"1\" class=\"dataframe\">\n",
       "  <thead>\n",
       "    <tr style=\"text-align: right;\">\n",
       "      <th></th>\n",
       "      <th>Principal</th>\n",
       "      <th>terms</th>\n",
       "      <th>age</th>\n",
       "      <th>Gender</th>\n",
       "      <th>education</th>\n",
       "    </tr>\n",
       "  </thead>\n",
       "  <tbody>\n",
       "    <tr>\n",
       "      <th>0</th>\n",
       "      <td>1000</td>\n",
       "      <td>30</td>\n",
       "      <td>45</td>\n",
       "      <td>0</td>\n",
       "      <td>High School or Below</td>\n",
       "    </tr>\n",
       "    <tr>\n",
       "      <th>1</th>\n",
       "      <td>1000</td>\n",
       "      <td>30</td>\n",
       "      <td>33</td>\n",
       "      <td>1</td>\n",
       "      <td>Bechalor</td>\n",
       "    </tr>\n",
       "    <tr>\n",
       "      <th>2</th>\n",
       "      <td>1000</td>\n",
       "      <td>15</td>\n",
       "      <td>27</td>\n",
       "      <td>0</td>\n",
       "      <td>college</td>\n",
       "    </tr>\n",
       "    <tr>\n",
       "      <th>3</th>\n",
       "      <td>1000</td>\n",
       "      <td>30</td>\n",
       "      <td>28</td>\n",
       "      <td>1</td>\n",
       "      <td>college</td>\n",
       "    </tr>\n",
       "    <tr>\n",
       "      <th>4</th>\n",
       "      <td>1000</td>\n",
       "      <td>30</td>\n",
       "      <td>29</td>\n",
       "      <td>0</td>\n",
       "      <td>college</td>\n",
       "    </tr>\n",
       "  </tbody>\n",
       "</table>\n",
       "</div>"
      ],
      "text/plain": [
       "   Principal  terms  age  Gender             education\n",
       "0       1000     30   45       0  High School or Below\n",
       "1       1000     30   33       1              Bechalor\n",
       "2       1000     15   27       0               college\n",
       "3       1000     30   28       1               college\n",
       "4       1000     30   29       0               college"
      ]
     },
     "execution_count": 15,
     "metadata": {},
     "output_type": "execute_result"
    }
   ],
   "source": [
    "df[['Principal','terms','age','Gender','education']].head()"
   ]
  },
  {
   "cell_type": "markdown",
   "id": "7d10a50c",
   "metadata": {
    "button": false,
    "new_sheet": false,
    "papermill": {
     "duration": 0.104721,
     "end_time": "2022-01-19T19:44:22.725106",
     "exception": false,
     "start_time": "2022-01-19T19:44:22.620385",
     "status": "completed"
    },
    "run_control": {
     "read_only": false
    },
    "tags": []
   },
   "source": [
    "#### Use one hot encoding technique to conver categorical varables to binary variables and append them to the feature Data Frame\n"
   ]
  },
  {
   "cell_type": "code",
   "execution_count": 16,
   "id": "6d8829bb",
   "metadata": {
    "button": false,
    "execution": {
     "iopub.execute_input": "2022-01-19T19:44:22.951812Z",
     "iopub.status.busy": "2022-01-19T19:44:22.943390Z",
     "iopub.status.idle": "2022-01-19T19:44:22.954590Z",
     "shell.execute_reply": "2022-01-19T19:44:22.955138Z",
     "shell.execute_reply.started": "2022-01-19T19:40:16.383130Z"
    },
    "new_sheet": false,
    "papermill": {
     "duration": 0.124053,
     "end_time": "2022-01-19T19:44:22.955326",
     "exception": false,
     "start_time": "2022-01-19T19:44:22.831273",
     "status": "completed"
    },
    "run_control": {
     "read_only": false
    },
    "tags": []
   },
   "outputs": [
    {
     "data": {
      "text/html": [
       "<div>\n",
       "<style scoped>\n",
       "    .dataframe tbody tr th:only-of-type {\n",
       "        vertical-align: middle;\n",
       "    }\n",
       "\n",
       "    .dataframe tbody tr th {\n",
       "        vertical-align: top;\n",
       "    }\n",
       "\n",
       "    .dataframe thead th {\n",
       "        text-align: right;\n",
       "    }\n",
       "</style>\n",
       "<table border=\"1\" class=\"dataframe\">\n",
       "  <thead>\n",
       "    <tr style=\"text-align: right;\">\n",
       "      <th></th>\n",
       "      <th>Principal</th>\n",
       "      <th>terms</th>\n",
       "      <th>age</th>\n",
       "      <th>Gender</th>\n",
       "      <th>weekend</th>\n",
       "      <th>Bechalor</th>\n",
       "      <th>High School or Below</th>\n",
       "      <th>college</th>\n",
       "    </tr>\n",
       "  </thead>\n",
       "  <tbody>\n",
       "    <tr>\n",
       "      <th>0</th>\n",
       "      <td>1000</td>\n",
       "      <td>30</td>\n",
       "      <td>45</td>\n",
       "      <td>0</td>\n",
       "      <td>0</td>\n",
       "      <td>0</td>\n",
       "      <td>1</td>\n",
       "      <td>0</td>\n",
       "    </tr>\n",
       "    <tr>\n",
       "      <th>1</th>\n",
       "      <td>1000</td>\n",
       "      <td>30</td>\n",
       "      <td>33</td>\n",
       "      <td>1</td>\n",
       "      <td>0</td>\n",
       "      <td>1</td>\n",
       "      <td>0</td>\n",
       "      <td>0</td>\n",
       "    </tr>\n",
       "    <tr>\n",
       "      <th>2</th>\n",
       "      <td>1000</td>\n",
       "      <td>15</td>\n",
       "      <td>27</td>\n",
       "      <td>0</td>\n",
       "      <td>0</td>\n",
       "      <td>0</td>\n",
       "      <td>0</td>\n",
       "      <td>1</td>\n",
       "    </tr>\n",
       "    <tr>\n",
       "      <th>3</th>\n",
       "      <td>1000</td>\n",
       "      <td>30</td>\n",
       "      <td>28</td>\n",
       "      <td>1</td>\n",
       "      <td>1</td>\n",
       "      <td>0</td>\n",
       "      <td>0</td>\n",
       "      <td>1</td>\n",
       "    </tr>\n",
       "    <tr>\n",
       "      <th>4</th>\n",
       "      <td>1000</td>\n",
       "      <td>30</td>\n",
       "      <td>29</td>\n",
       "      <td>0</td>\n",
       "      <td>1</td>\n",
       "      <td>0</td>\n",
       "      <td>0</td>\n",
       "      <td>1</td>\n",
       "    </tr>\n",
       "  </tbody>\n",
       "</table>\n",
       "</div>"
      ],
      "text/plain": [
       "   Principal  terms  age  Gender  weekend  Bechalor  High School or Below  \\\n",
       "0       1000     30   45       0        0         0                     1   \n",
       "1       1000     30   33       1        0         1                     0   \n",
       "2       1000     15   27       0        0         0                     0   \n",
       "3       1000     30   28       1        1         0                     0   \n",
       "4       1000     30   29       0        1         0                     0   \n",
       "\n",
       "   college  \n",
       "0        0  \n",
       "1        0  \n",
       "2        1  \n",
       "3        1  \n",
       "4        1  "
      ]
     },
     "execution_count": 16,
     "metadata": {},
     "output_type": "execute_result"
    }
   ],
   "source": [
    "Feature = df[['Principal','terms','age','Gender','weekend']]\n",
    "Feature = pd.concat([Feature,pd.get_dummies(df['education'])], axis=1)\n",
    "Feature.drop(['Master or Above'], axis = 1,inplace=True)\n",
    "Feature.head()\n"
   ]
  },
  {
   "cell_type": "markdown",
   "id": "2251ba38",
   "metadata": {
    "button": false,
    "new_sheet": false,
    "papermill": {
     "duration": 0.106479,
     "end_time": "2022-01-19T19:44:23.170049",
     "exception": false,
     "start_time": "2022-01-19T19:44:23.063570",
     "status": "completed"
    },
    "run_control": {
     "read_only": false
    },
    "tags": []
   },
   "source": [
    "### Feature Selection\n"
   ]
  },
  {
   "cell_type": "markdown",
   "id": "7029d7c5",
   "metadata": {
    "button": false,
    "new_sheet": false,
    "papermill": {
     "duration": 0.107037,
     "end_time": "2022-01-19T19:44:23.383173",
     "exception": false,
     "start_time": "2022-01-19T19:44:23.276136",
     "status": "completed"
    },
    "run_control": {
     "read_only": false
    },
    "tags": []
   },
   "source": [
    "Let's define feature sets, X:\n"
   ]
  },
  {
   "cell_type": "code",
   "execution_count": 17,
   "id": "19894703",
   "metadata": {
    "button": false,
    "execution": {
     "iopub.execute_input": "2022-01-19T19:44:23.600287Z",
     "iopub.status.busy": "2022-01-19T19:44:23.599337Z",
     "iopub.status.idle": "2022-01-19T19:44:23.609568Z",
     "shell.execute_reply": "2022-01-19T19:44:23.610115Z",
     "shell.execute_reply.started": "2022-01-19T19:40:18.298199Z"
    },
    "new_sheet": false,
    "papermill": {
     "duration": 0.120548,
     "end_time": "2022-01-19T19:44:23.610277",
     "exception": false,
     "start_time": "2022-01-19T19:44:23.489729",
     "status": "completed"
    },
    "run_control": {
     "read_only": false
    },
    "tags": []
   },
   "outputs": [
    {
     "data": {
      "text/html": [
       "<div>\n",
       "<style scoped>\n",
       "    .dataframe tbody tr th:only-of-type {\n",
       "        vertical-align: middle;\n",
       "    }\n",
       "\n",
       "    .dataframe tbody tr th {\n",
       "        vertical-align: top;\n",
       "    }\n",
       "\n",
       "    .dataframe thead th {\n",
       "        text-align: right;\n",
       "    }\n",
       "</style>\n",
       "<table border=\"1\" class=\"dataframe\">\n",
       "  <thead>\n",
       "    <tr style=\"text-align: right;\">\n",
       "      <th></th>\n",
       "      <th>Principal</th>\n",
       "      <th>terms</th>\n",
       "      <th>age</th>\n",
       "      <th>Gender</th>\n",
       "      <th>weekend</th>\n",
       "      <th>Bechalor</th>\n",
       "      <th>High School or Below</th>\n",
       "      <th>college</th>\n",
       "    </tr>\n",
       "  </thead>\n",
       "  <tbody>\n",
       "    <tr>\n",
       "      <th>0</th>\n",
       "      <td>1000</td>\n",
       "      <td>30</td>\n",
       "      <td>45</td>\n",
       "      <td>0</td>\n",
       "      <td>0</td>\n",
       "      <td>0</td>\n",
       "      <td>1</td>\n",
       "      <td>0</td>\n",
       "    </tr>\n",
       "    <tr>\n",
       "      <th>1</th>\n",
       "      <td>1000</td>\n",
       "      <td>30</td>\n",
       "      <td>33</td>\n",
       "      <td>1</td>\n",
       "      <td>0</td>\n",
       "      <td>1</td>\n",
       "      <td>0</td>\n",
       "      <td>0</td>\n",
       "    </tr>\n",
       "    <tr>\n",
       "      <th>2</th>\n",
       "      <td>1000</td>\n",
       "      <td>15</td>\n",
       "      <td>27</td>\n",
       "      <td>0</td>\n",
       "      <td>0</td>\n",
       "      <td>0</td>\n",
       "      <td>0</td>\n",
       "      <td>1</td>\n",
       "    </tr>\n",
       "    <tr>\n",
       "      <th>3</th>\n",
       "      <td>1000</td>\n",
       "      <td>30</td>\n",
       "      <td>28</td>\n",
       "      <td>1</td>\n",
       "      <td>1</td>\n",
       "      <td>0</td>\n",
       "      <td>0</td>\n",
       "      <td>1</td>\n",
       "    </tr>\n",
       "    <tr>\n",
       "      <th>4</th>\n",
       "      <td>1000</td>\n",
       "      <td>30</td>\n",
       "      <td>29</td>\n",
       "      <td>0</td>\n",
       "      <td>1</td>\n",
       "      <td>0</td>\n",
       "      <td>0</td>\n",
       "      <td>1</td>\n",
       "    </tr>\n",
       "  </tbody>\n",
       "</table>\n",
       "</div>"
      ],
      "text/plain": [
       "   Principal  terms  age  Gender  weekend  Bechalor  High School or Below  \\\n",
       "0       1000     30   45       0        0         0                     1   \n",
       "1       1000     30   33       1        0         1                     0   \n",
       "2       1000     15   27       0        0         0                     0   \n",
       "3       1000     30   28       1        1         0                     0   \n",
       "4       1000     30   29       0        1         0                     0   \n",
       "\n",
       "   college  \n",
       "0        0  \n",
       "1        0  \n",
       "2        1  \n",
       "3        1  \n",
       "4        1  "
      ]
     },
     "execution_count": 17,
     "metadata": {},
     "output_type": "execute_result"
    }
   ],
   "source": [
    "X = Feature\n",
    "X[0:5]"
   ]
  },
  {
   "cell_type": "markdown",
   "id": "68549da8",
   "metadata": {
    "button": false,
    "new_sheet": false,
    "papermill": {
     "duration": 0.10998,
     "end_time": "2022-01-19T19:44:23.827098",
     "exception": false,
     "start_time": "2022-01-19T19:44:23.717118",
     "status": "completed"
    },
    "run_control": {
     "read_only": false
    },
    "tags": []
   },
   "source": [
    "What are our lables?\n"
   ]
  },
  {
   "cell_type": "code",
   "execution_count": 18,
   "id": "2dc459fc",
   "metadata": {
    "button": false,
    "execution": {
     "iopub.execute_input": "2022-01-19T19:44:24.050735Z",
     "iopub.status.busy": "2022-01-19T19:44:24.049852Z",
     "iopub.status.idle": "2022-01-19T19:44:24.053045Z",
     "shell.execute_reply": "2022-01-19T19:44:24.053491Z",
     "shell.execute_reply.started": "2022-01-19T19:40:19.485301Z"
    },
    "new_sheet": false,
    "papermill": {
     "duration": 0.116779,
     "end_time": "2022-01-19T19:44:24.053677",
     "exception": false,
     "start_time": "2022-01-19T19:44:23.936898",
     "status": "completed"
    },
    "run_control": {
     "read_only": false
    },
    "tags": []
   },
   "outputs": [
    {
     "data": {
      "text/plain": [
       "array(['PAIDOFF', 'PAIDOFF', 'PAIDOFF', 'PAIDOFF', 'PAIDOFF'],\n",
       "      dtype=object)"
      ]
     },
     "execution_count": 18,
     "metadata": {},
     "output_type": "execute_result"
    }
   ],
   "source": [
    "y = df['loan_status'].values\n",
    "y[0:5]"
   ]
  },
  {
   "cell_type": "markdown",
   "id": "a9c43759",
   "metadata": {
    "button": false,
    "new_sheet": false,
    "papermill": {
     "duration": 0.106724,
     "end_time": "2022-01-19T19:44:24.269733",
     "exception": false,
     "start_time": "2022-01-19T19:44:24.163009",
     "status": "completed"
    },
    "run_control": {
     "read_only": false
    },
    "tags": []
   },
   "source": [
    "## Normalize Data\n"
   ]
  },
  {
   "cell_type": "markdown",
   "id": "38b2b787",
   "metadata": {
    "button": false,
    "new_sheet": false,
    "papermill": {
     "duration": 0.110047,
     "end_time": "2022-01-19T19:44:24.490618",
     "exception": false,
     "start_time": "2022-01-19T19:44:24.380571",
     "status": "completed"
    },
    "run_control": {
     "read_only": false
    },
    "tags": []
   },
   "source": [
    "Data Standardization give data zero mean and unit variance (technically should be done after train test split)\n"
   ]
  },
  {
   "cell_type": "code",
   "execution_count": 19,
   "id": "9020e110",
   "metadata": {
    "button": false,
    "execution": {
     "iopub.execute_input": "2022-01-19T19:44:24.708722Z",
     "iopub.status.busy": "2022-01-19T19:44:24.707723Z",
     "iopub.status.idle": "2022-01-19T19:44:24.717941Z",
     "shell.execute_reply": "2022-01-19T19:44:24.718354Z",
     "shell.execute_reply.started": "2022-01-19T19:40:20.875148Z"
    },
    "new_sheet": false,
    "papermill": {
     "duration": 0.120968,
     "end_time": "2022-01-19T19:44:24.718555",
     "exception": false,
     "start_time": "2022-01-19T19:44:24.597587",
     "status": "completed"
    },
    "run_control": {
     "read_only": false
    },
    "tags": []
   },
   "outputs": [
    {
     "data": {
      "text/plain": [
       "array([[ 0.51578458,  0.92071769,  2.33152555, -0.42056004, -1.20577805,\n",
       "        -0.38170062,  1.13639374, -0.86968108],\n",
       "       [ 0.51578458,  0.92071769,  0.34170148,  2.37778177, -1.20577805,\n",
       "         2.61985426, -0.87997669, -0.86968108],\n",
       "       [ 0.51578458, -0.95911111, -0.65321055, -0.42056004, -1.20577805,\n",
       "        -0.38170062, -0.87997669,  1.14984679],\n",
       "       [ 0.51578458,  0.92071769, -0.48739188,  2.37778177,  0.82934003,\n",
       "        -0.38170062, -0.87997669,  1.14984679],\n",
       "       [ 0.51578458,  0.92071769, -0.3215732 , -0.42056004,  0.82934003,\n",
       "        -0.38170062, -0.87997669,  1.14984679]])"
      ]
     },
     "execution_count": 19,
     "metadata": {},
     "output_type": "execute_result"
    }
   ],
   "source": [
    "X= preprocessing.StandardScaler().fit(X).transform(X)\n",
    "X[0:5]"
   ]
  },
  {
   "cell_type": "markdown",
   "id": "a6c6c09b",
   "metadata": {
    "button": false,
    "new_sheet": false,
    "papermill": {
     "duration": 0.107236,
     "end_time": "2022-01-19T19:44:24.933000",
     "exception": false,
     "start_time": "2022-01-19T19:44:24.825764",
     "status": "completed"
    },
    "run_control": {
     "read_only": false
    },
    "tags": []
   },
   "source": [
    "# Classification\n"
   ]
  },
  {
   "cell_type": "markdown",
   "id": "7dd60e6f",
   "metadata": {
    "button": false,
    "new_sheet": false,
    "papermill": {
     "duration": 0.108295,
     "end_time": "2022-01-19T19:44:25.151164",
     "exception": false,
     "start_time": "2022-01-19T19:44:25.042869",
     "status": "completed"
    },
    "run_control": {
     "read_only": false
    },
    "tags": []
   },
   "source": [
    "Now, it is your turn, use the training set to build an accurate model. Then use the test set to report the accuracy of the model\n",
    "You should use the following algorithm:\n",
    "\n",
    "*   K Nearest Neighbor(KNN)\n",
    "*   Decision Tree\n",
    "*   Support Vector Machine\n",
    "*   Logistic Regression\n",
    "\n",
    "\\__ Notice:\\__\n",
    "\n",
    "*   You can go above and change the pre-processing, feature selection, feature-extraction, and so on, to make a better model.\n",
    "*   You should use either scikit-learn, Scipy or Numpy libraries for developing the classification algorithms.\n",
    "*   You should include the code of the algorithm in the following cells.\n"
   ]
  },
  {
   "cell_type": "markdown",
   "id": "f62eb3d7",
   "metadata": {
    "papermill": {
     "duration": 0.10554,
     "end_time": "2022-01-19T19:44:25.363781",
     "exception": false,
     "start_time": "2022-01-19T19:44:25.258241",
     "status": "completed"
    },
    "tags": []
   },
   "source": [
    "# K Nearest Neighbor(KNN)\n",
    "\n",
    "Notice: You should find the best k to build the model with the best accuracy.\\\n",
    "**warning:** You should not use the **loan_test.csv** for finding the best k, however, you can split your train_loan.csv into train and test to find the best **k**.\n"
   ]
  },
  {
   "cell_type": "code",
   "execution_count": 20,
   "id": "d66fbcbd",
   "metadata": {
    "execution": {
     "iopub.execute_input": "2022-01-19T19:44:25.581126Z",
     "iopub.status.busy": "2022-01-19T19:44:25.580169Z",
     "iopub.status.idle": "2022-01-19T19:44:25.634034Z",
     "shell.execute_reply": "2022-01-19T19:44:25.633160Z",
     "shell.execute_reply.started": "2022-01-19T19:40:22.940492Z"
    },
    "papermill": {
     "duration": 0.163855,
     "end_time": "2022-01-19T19:44:25.634215",
     "exception": false,
     "start_time": "2022-01-19T19:44:25.470360",
     "status": "completed"
    },
    "tags": []
   },
   "outputs": [
    {
     "name": "stdout",
     "output_type": "stream",
     "text": [
      "Train set: (276, 8) (276,)\n",
      "Test set: (70, 8) (70,)\n"
     ]
    }
   ],
   "source": [
    "from sklearn.model_selection import train_test_split\n",
    "X_train, X_test, y_train, y_test = train_test_split( X, y, test_size=0.2, random_state=4)\n",
    "print ('Train set:', X_train.shape,  y_train.shape)\n",
    "print ('Test set:', X_test.shape,  y_test.shape)"
   ]
  },
  {
   "cell_type": "code",
   "execution_count": 21,
   "id": "84e32f7e",
   "metadata": {
    "execution": {
     "iopub.execute_input": "2022-01-19T19:44:25.854905Z",
     "iopub.status.busy": "2022-01-19T19:44:25.854278Z",
     "iopub.status.idle": "2022-01-19T19:44:25.989384Z",
     "shell.execute_reply": "2022-01-19T19:44:25.988658Z",
     "shell.execute_reply.started": "2022-01-19T19:40:23.733245Z"
    },
    "papermill": {
     "duration": 0.24771,
     "end_time": "2022-01-19T19:44:25.989562",
     "exception": false,
     "start_time": "2022-01-19T19:44:25.741852",
     "status": "completed"
    },
    "tags": []
   },
   "outputs": [],
   "source": [
    "from sklearn.neighbors import KNeighborsClassifier"
   ]
  },
  {
   "cell_type": "code",
   "execution_count": 22,
   "id": "6bde2034",
   "metadata": {
    "execution": {
     "iopub.execute_input": "2022-01-19T19:44:26.208857Z",
     "iopub.status.busy": "2022-01-19T19:44:26.208099Z",
     "iopub.status.idle": "2022-01-19T19:44:26.260730Z",
     "shell.execute_reply": "2022-01-19T19:44:26.260150Z",
     "shell.execute_reply.started": "2022-01-19T19:40:24.660284Z"
    },
    "papermill": {
     "duration": 0.16295,
     "end_time": "2022-01-19T19:44:26.260879",
     "exception": false,
     "start_time": "2022-01-19T19:44:26.097929",
     "status": "completed"
    },
    "tags": []
   },
   "outputs": [],
   "source": [
    "from sklearn import metrics\n",
    "Ks = 12\n",
    "mean_acc = np.zeros((Ks-1))\n",
    "std_acc = np.zeros((Ks-1))\n",
    "\n",
    "for n in range(1,Ks):\n",
    "    \n",
    "    #Train Model and Predict  \n",
    "    neigh = KNeighborsClassifier(n_neighbors = n).fit(X_train,y_train)\n",
    "    yhat=neigh.predict(X_test)\n",
    "    mean_acc[n-1] = metrics.accuracy_score(y_test, yhat)\n",
    "\n",
    "    \n",
    "    std_acc[n-1]=np.std(yhat==y_test)/np.sqrt(yhat.shape[0])"
   ]
  },
  {
   "cell_type": "code",
   "execution_count": 23,
   "id": "8659efac",
   "metadata": {
    "execution": {
     "iopub.execute_input": "2022-01-19T19:44:26.483919Z",
     "iopub.status.busy": "2022-01-19T19:44:26.480220Z",
     "iopub.status.idle": "2022-01-19T19:44:26.726872Z",
     "shell.execute_reply": "2022-01-19T19:44:26.727335Z",
     "shell.execute_reply.started": "2022-01-19T19:40:25.325693Z"
    },
    "papermill": {
     "duration": 0.358015,
     "end_time": "2022-01-19T19:44:26.727498",
     "exception": false,
     "start_time": "2022-01-19T19:44:26.369483",
     "status": "completed"
    },
    "tags": []
   },
   "outputs": [
    {
     "data": {
      "image/png": "[encoded data removed]",
      "text/plain": [
       "<Figure size 432x288 with 1 Axes>"
      ]
     },
     "metadata": {
      "needs_background": "light"
     },
     "output_type": "display_data"
    }
   ],
   "source": [
    "plt.plot(range(1,Ks),mean_acc,'g')\n",
    "plt.fill_between(range(1,Ks),mean_acc - 1 * std_acc,mean_acc + 1 * std_acc, alpha=0.10)\n",
    "plt.fill_between(range(1,Ks),mean_acc - 3 * std_acc,mean_acc + 3 * std_acc, alpha=0.10,color=\"green\")\n",
    "plt.legend(('Accuracy ', '+/- 1xstd','+/- 3xstd'))\n",
    "plt.ylabel('Accuracy ')\n",
    "plt.xlabel('Number of Neighbors (K)')\n",
    "plt.tight_layout()\n",
    "plt.show()"
   ]
  },
  {
   "cell_type": "code",
   "execution_count": 24,
   "id": "fcaa693f",
   "metadata": {
    "execution": {
     "iopub.execute_input": "2022-01-19T19:44:26.950729Z",
     "iopub.status.busy": "2022-01-19T19:44:26.949758Z",
     "iopub.status.idle": "2022-01-19T19:44:26.955526Z",
     "shell.execute_reply": "2022-01-19T19:44:26.956108Z",
     "shell.execute_reply.started": "2022-01-19T19:40:26.058894Z"
    },
    "papermill": {
     "duration": 0.119309,
     "end_time": "2022-01-19T19:44:26.956275",
     "exception": false,
     "start_time": "2022-01-19T19:44:26.836966",
     "status": "completed"
    },
    "tags": []
   },
   "outputs": [
    {
     "name": "stdout",
     "output_type": "stream",
     "text": [
      "The best accuracy was with 0.7857142857142857 with k= 7\n"
     ]
    }
   ],
   "source": [
    "print( \"The best accuracy was with\", mean_acc.max(), \"with k=\", mean_acc.argmax()+1) "
   ]
  },
  {
   "cell_type": "code",
   "execution_count": 25,
   "id": "cda9910f",
   "metadata": {
    "execution": {
     "iopub.execute_input": "2022-01-19T19:44:27.179495Z",
     "iopub.status.busy": "2022-01-19T19:44:27.178555Z",
     "iopub.status.idle": "2022-01-19T19:44:27.197781Z",
     "shell.execute_reply": "2022-01-19T19:44:27.198274Z",
     "shell.execute_reply.started": "2022-01-19T19:40:30.398500Z"
    },
    "papermill": {
     "duration": 0.13165,
     "end_time": "2022-01-19T19:44:27.198442",
     "exception": false,
     "start_time": "2022-01-19T19:44:27.066792",
     "status": "completed"
    },
    "tags": []
   },
   "outputs": [
    {
     "name": "stdout",
     "output_type": "stream",
     "text": [
      "Train set Accuracy:  0.8092485549132948\n"
     ]
    }
   ],
   "source": [
    "k = 7\n",
    "#Train Model and Predict  \n",
    "neigh = KNeighborsClassifier(n_neighbors = k).fit(X,y)\n",
    "print(\"Train set Accuracy: \", metrics.accuracy_score(y, neigh.predict(X)))"
   ]
  },
  {
   "cell_type": "markdown",
   "id": "2e95a182",
   "metadata": {
    "papermill": {
     "duration": 0.109502,
     "end_time": "2022-01-19T19:44:27.418135",
     "exception": false,
     "start_time": "2022-01-19T19:44:27.308633",
     "status": "completed"
    },
    "tags": []
   },
   "source": [
    "# Decision Tree\n"
   ]
  },
  {
   "cell_type": "code",
   "execution_count": 26,
   "id": "a735c463",
   "metadata": {
    "execution": {
     "iopub.execute_input": "2022-01-19T19:44:27.641287Z",
     "iopub.status.busy": "2022-01-19T19:44:27.640662Z",
     "iopub.status.idle": "2022-01-19T19:44:27.674756Z",
     "shell.execute_reply": "2022-01-19T19:44:27.675225Z",
     "shell.execute_reply.started": "2022-01-19T19:40:31.916000Z"
    },
    "papermill": {
     "duration": 0.148741,
     "end_time": "2022-01-19T19:44:27.675389",
     "exception": false,
     "start_time": "2022-01-19T19:44:27.526648",
     "status": "completed"
    },
    "tags": []
   },
   "outputs": [
    {
     "data": {
      "text/plain": [
       "DecisionTreeClassifier(criterion='entropy', max_depth=4)"
      ]
     },
     "execution_count": 26,
     "metadata": {},
     "output_type": "execute_result"
    }
   ],
   "source": [
    "from sklearn.tree import DecisionTreeClassifier\n",
    "drugTree = DecisionTreeClassifier(criterion=\"entropy\", max_depth = 4)\n",
    "\n",
    "drugTree.fit(X,y)"
   ]
  },
  {
   "cell_type": "markdown",
   "id": "6e05f161",
   "metadata": {
    "papermill": {
     "duration": 0.110084,
     "end_time": "2022-01-19T19:44:27.898109",
     "exception": false,
     "start_time": "2022-01-19T19:44:27.788025",
     "status": "completed"
    },
    "tags": []
   },
   "source": [
    "# Support Vector Machine\n"
   ]
  },
  {
   "cell_type": "code",
   "execution_count": 27,
   "id": "ee60bb55",
   "metadata": {
    "execution": {
     "iopub.execute_input": "2022-01-19T19:44:28.125047Z",
     "iopub.status.busy": "2022-01-19T19:44:28.124246Z",
     "iopub.status.idle": "2022-01-19T19:44:28.134398Z",
     "shell.execute_reply": "2022-01-19T19:44:28.135006Z",
     "shell.execute_reply.started": "2022-01-19T19:40:33.315205Z"
    },
    "papermill": {
     "duration": 0.125416,
     "end_time": "2022-01-19T19:44:28.135176",
     "exception": false,
     "start_time": "2022-01-19T19:44:28.009760",
     "status": "completed"
    },
    "tags": []
   },
   "outputs": [
    {
     "data": {
      "text/plain": [
       "SVC()"
      ]
     },
     "execution_count": 27,
     "metadata": {},
     "output_type": "execute_result"
    }
   ],
   "source": [
    "from sklearn import svm\n",
    "clf = svm.SVC(kernel='rbf')\n",
    "clf.fit(X, y) "
   ]
  },
  {
   "cell_type": "markdown",
   "id": "444a4533",
   "metadata": {
    "papermill": {
     "duration": 0.109972,
     "end_time": "2022-01-19T19:44:28.355227",
     "exception": false,
     "start_time": "2022-01-19T19:44:28.245255",
     "status": "completed"
    },
    "tags": []
   },
   "source": [
    "# Logistic Regression\n"
   ]
  },
  {
   "cell_type": "code",
   "execution_count": 28,
   "id": "a19334f3",
   "metadata": {
    "execution": {
     "iopub.execute_input": "2022-01-19T19:44:28.612487Z",
     "iopub.status.busy": "2022-01-19T19:44:28.611783Z",
     "iopub.status.idle": "2022-01-19T19:44:28.616872Z",
     "shell.execute_reply": "2022-01-19T19:44:28.617392Z",
     "shell.execute_reply.started": "2022-01-19T19:40:34.490343Z"
    },
    "papermill": {
     "duration": 0.135098,
     "end_time": "2022-01-19T19:44:28.617654",
     "exception": false,
     "start_time": "2022-01-19T19:44:28.482556",
     "status": "completed"
    },
    "tags": []
   },
   "outputs": [],
   "source": [
    "from sklearn.linear_model import LogisticRegression\n",
    "LR = LogisticRegression(C=0.01, solver='liblinear').fit(X,y)"
   ]
  },
  {
   "cell_type": "markdown",
   "id": "5dab0b04",
   "metadata": {
    "papermill": {
     "duration": 0.112874,
     "end_time": "2022-01-19T19:44:28.845627",
     "exception": false,
     "start_time": "2022-01-19T19:44:28.732753",
     "status": "completed"
    },
    "tags": []
   },
   "source": [
    "# Model Evaluation using Test set\n"
   ]
  },
  {
   "cell_type": "code",
   "execution_count": 29,
   "id": "21f2f630",
   "metadata": {
    "execution": {
     "iopub.execute_input": "2022-01-19T19:44:29.077911Z",
     "iopub.status.busy": "2022-01-19T19:44:29.077199Z",
     "iopub.status.idle": "2022-01-19T19:44:29.079553Z",
     "shell.execute_reply": "2022-01-19T19:44:29.080110Z",
     "shell.execute_reply.started": "2022-01-19T19:40:35.587485Z"
    },
    "papermill": {
     "duration": 0.121168,
     "end_time": "2022-01-19T19:44:29.080274",
     "exception": false,
     "start_time": "2022-01-19T19:44:28.959106",
     "status": "completed"
    },
    "tags": []
   },
   "outputs": [],
   "source": [
    "from sklearn.metrics import jaccard_score\n",
    "from sklearn.metrics import f1_score\n",
    "from sklearn.metrics import log_loss\n"
   ]
  },
  {
   "cell_type": "markdown",
   "id": "e3387ff9",
   "metadata": {
    "papermill": {
     "duration": 0.112263,
     "end_time": "2022-01-19T19:44:29.306003",
     "exception": false,
     "start_time": "2022-01-19T19:44:29.193740",
     "status": "completed"
    },
    "tags": []
   },
   "source": [
    "First, download and load the test set:\n"
   ]
  },
  {
   "cell_type": "code",
   "execution_count": 30,
   "id": "2607ff7b",
   "metadata": {
    "execution": {
     "iopub.execute_input": "2022-01-19T19:44:29.531439Z",
     "iopub.status.busy": "2022-01-19T19:44:29.530820Z",
     "iopub.status.idle": "2022-01-19T19:44:31.228712Z",
     "shell.execute_reply": "2022-01-19T19:44:31.228053Z",
     "shell.execute_reply.started": "2022-01-19T19:40:36.923069Z"
    },
    "papermill": {
     "duration": 1.812021,
     "end_time": "2022-01-19T19:44:31.228849",
     "exception": false,
     "start_time": "2022-01-19T19:44:29.416828",
     "status": "completed"
    },
    "tags": []
   },
   "outputs": [
    {
     "name": "stdout",
     "output_type": "stream",
     "text": [
      "--2022-01-19 19:44:30--  https://s3-api.us-geo.objectstorage.softlayer.net/cf-courses-data/CognitiveClass/ML0101ENv3/labs/loan_test.csv\r\n",
      "Resolving s3-api.us-geo.objectstorage.softlayer.net (s3-api.us-geo.objectstorage.softlayer.net)... 67.228.254.196\r\n",
      "Connecting to s3-api.us-geo.objectstorage.softlayer.net (s3-api.us-geo.objectstorage.softlayer.net)|67.228.254.196|:443... connected.\r\n",
      "HTTP request sent, awaiting response... 200 OK\r\n",
      "Length: 3642 (3.6K) [text/csv]\r\n",
      "Saving to: ‘loan_test.csv’\r\n",
      "\r\n",
      "loan_test.csv       100%[===================>]   3.56K  --.-KB/s    in 0s      \r\n",
      "\r\n",
      "2022-01-19 19:44:31 (393 MB/s) - ‘loan_test.csv’ saved [3642/3642]\r\n",
      "\r\n"
     ]
    }
   ],
   "source": [
    "!wget -O loan_test.csv https://s3-api.us-geo.objectstorage.softlayer.net/cf-courses-data/CognitiveClass/ML0101ENv3/labs/loan_test.csv"
   ]
  },
  {
   "cell_type": "markdown",
   "id": "643233c9",
   "metadata": {
    "button": false,
    "new_sheet": false,
    "papermill": {
     "duration": 0.112831,
     "end_time": "2022-01-19T19:44:31.452682",
     "exception": false,
     "start_time": "2022-01-19T19:44:31.339851",
     "status": "completed"
    },
    "run_control": {
     "read_only": false
    },
    "tags": []
   },
   "source": [
    "### Load Test set for evaluation\n"
   ]
  },
  {
   "cell_type": "code",
   "execution_count": 31,
   "id": "347c0952",
   "metadata": {
    "button": false,
    "execution": {
     "iopub.execute_input": "2022-01-19T19:44:31.717668Z",
     "iopub.status.busy": "2022-01-19T19:44:31.716983Z",
     "iopub.status.idle": "2022-01-19T19:44:31.728432Z",
     "shell.execute_reply": "2022-01-19T19:44:31.728916Z",
     "shell.execute_reply.started": "2022-01-19T19:40:42.659807Z"
    },
    "new_sheet": false,
    "papermill": {
     "duration": 0.161987,
     "end_time": "2022-01-19T19:44:31.729085",
     "exception": false,
     "start_time": "2022-01-19T19:44:31.567098",
     "status": "completed"
    },
    "run_control": {
     "read_only": false
    },
    "tags": []
   },
   "outputs": [
    {
     "data": {
      "text/html": [
       "<div>\n",
       "<style scoped>\n",
       "    .dataframe tbody tr th:only-of-type {\n",
       "        vertical-align: middle;\n",
       "    }\n",
       "\n",
       "    .dataframe tbody tr th {\n",
       "        vertical-align: top;\n",
       "    }\n",
       "\n",
       "    .dataframe thead th {\n",
       "        text-align: right;\n",
       "    }\n",
       "</style>\n",
       "<table border=\"1\" class=\"dataframe\">\n",
       "  <thead>\n",
       "    <tr style=\"text-align: right;\">\n",
       "      <th></th>\n",
       "      <th>Unnamed: 0</th>\n",
       "      <th>Unnamed: 0.1</th>\n",
       "      <th>loan_status</th>\n",
       "      <th>Principal</th>\n",
       "      <th>terms</th>\n",
       "      <th>effective_date</th>\n",
       "      <th>due_date</th>\n",
       "      <th>age</th>\n",
       "      <th>education</th>\n",
       "      <th>Gender</th>\n",
       "    </tr>\n",
       "  </thead>\n",
       "  <tbody>\n",
       "    <tr>\n",
       "      <th>0</th>\n",
       "      <td>1</td>\n",
       "      <td>1</td>\n",
       "      <td>PAIDOFF</td>\n",
       "      <td>1000</td>\n",
       "      <td>30</td>\n",
       "      <td>9/8/2016</td>\n",
       "      <td>10/7/2016</td>\n",
       "      <td>50</td>\n",
       "      <td>Bechalor</td>\n",
       "      <td>female</td>\n",
       "    </tr>\n",
       "    <tr>\n",
       "      <th>1</th>\n",
       "      <td>5</td>\n",
       "      <td>5</td>\n",
       "      <td>PAIDOFF</td>\n",
       "      <td>300</td>\n",
       "      <td>7</td>\n",
       "      <td>9/9/2016</td>\n",
       "      <td>9/15/2016</td>\n",
       "      <td>35</td>\n",
       "      <td>Master or Above</td>\n",
       "      <td>male</td>\n",
       "    </tr>\n",
       "    <tr>\n",
       "      <th>2</th>\n",
       "      <td>21</td>\n",
       "      <td>21</td>\n",
       "      <td>PAIDOFF</td>\n",
       "      <td>1000</td>\n",
       "      <td>30</td>\n",
       "      <td>9/10/2016</td>\n",
       "      <td>10/9/2016</td>\n",
       "      <td>43</td>\n",
       "      <td>High School or Below</td>\n",
       "      <td>female</td>\n",
       "    </tr>\n",
       "    <tr>\n",
       "      <th>3</th>\n",
       "      <td>24</td>\n",
       "      <td>24</td>\n",
       "      <td>PAIDOFF</td>\n",
       "      <td>1000</td>\n",
       "      <td>30</td>\n",
       "      <td>9/10/2016</td>\n",
       "      <td>10/9/2016</td>\n",
       "      <td>26</td>\n",
       "      <td>college</td>\n",
       "      <td>male</td>\n",
       "    </tr>\n",
       "    <tr>\n",
       "      <th>4</th>\n",
       "      <td>35</td>\n",
       "      <td>35</td>\n",
       "      <td>PAIDOFF</td>\n",
       "      <td>800</td>\n",
       "      <td>15</td>\n",
       "      <td>9/11/2016</td>\n",
       "      <td>9/25/2016</td>\n",
       "      <td>29</td>\n",
       "      <td>Bechalor</td>\n",
       "      <td>male</td>\n",
       "    </tr>\n",
       "  </tbody>\n",
       "</table>\n",
       "</div>"
      ],
      "text/plain": [
       "   Unnamed: 0  Unnamed: 0.1 loan_status  Principal  terms effective_date  \\\n",
       "0           1             1     PAIDOFF       1000     30       9/8/2016   \n",
       "1           5             5     PAIDOFF        300      7       9/9/2016   \n",
       "2          21            21     PAIDOFF       1000     30      9/10/2016   \n",
       "3          24            24     PAIDOFF       1000     30      9/10/2016   \n",
       "4          35            35     PAIDOFF        800     15      9/11/2016   \n",
       "\n",
       "    due_date  age             education  Gender  \n",
       "0  10/7/2016   50              Bechalor  female  \n",
       "1  9/15/2016   35       Master or Above    male  \n",
       "2  10/9/2016   43  High School or Below  female  \n",
       "3  10/9/2016   26               college    male  \n",
       "4  9/25/2016   29              Bechalor    male  "
      ]
     },
     "execution_count": 31,
     "metadata": {},
     "output_type": "execute_result"
    }
   ],
   "source": [
    "test_df = pd.read_csv('loan_test.csv')\n",
    "test_df.head()"
   ]
  },
  {
   "cell_type": "code",
   "execution_count": 32,
   "id": "a65c7e30",
   "metadata": {
    "execution": {
     "iopub.execute_input": "2022-01-19T19:44:31.962110Z",
     "iopub.status.busy": "2022-01-19T19:44:31.961412Z",
     "iopub.status.idle": "2022-01-19T19:44:31.974614Z",
     "shell.execute_reply": "2022-01-19T19:44:31.975076Z",
     "shell.execute_reply.started": "2022-01-19T19:40:43.439884Z"
    },
    "papermill": {
     "duration": 0.134512,
     "end_time": "2022-01-19T19:44:31.975274",
     "exception": false,
     "start_time": "2022-01-19T19:44:31.840762",
     "status": "completed"
    },
    "tags": []
   },
   "outputs": [],
   "source": [
    "test_df['due_date'] = pd.to_datetime(test_df['due_date'])\n",
    "test_df['effective_date'] = pd.to_datetime(test_df['effective_date'])\n",
    "test_df['dayofweek'] = test_df['effective_date'].dt.dayofweek\n",
    "test_df['weekend'] = test_df['dayofweek'].apply(lambda x: 1 if (x>3)  else 0)\n",
    "test_df['Gender'].replace(to_replace=['male','female'], value=[0,1],inplace=True)\n",
    "X_test = test_df[['Principal','terms','age','Gender','weekend']]\n",
    "X_test = pd.concat([X_test,pd.get_dummies(test_df['education'])], axis=1)\n",
    "X_test.drop(['Master or Above'], axis = 1,inplace=True)"
   ]
  },
  {
   "cell_type": "code",
   "execution_count": 33,
   "id": "c6e0c9a9",
   "metadata": {
    "execution": {
     "iopub.execute_input": "2022-01-19T19:44:32.202340Z",
     "iopub.status.busy": "2022-01-19T19:44:32.201733Z",
     "iopub.status.idle": "2022-01-19T19:44:32.209158Z",
     "shell.execute_reply": "2022-01-19T19:44:32.209612Z",
     "shell.execute_reply.started": "2022-01-19T19:40:44.008073Z"
    },
    "papermill": {
     "duration": 0.121464,
     "end_time": "2022-01-19T19:44:32.209792",
     "exception": false,
     "start_time": "2022-01-19T19:44:32.088328",
     "status": "completed"
    },
    "tags": []
   },
   "outputs": [],
   "source": [
    "y_test = test_df['loan_status'].values\n",
    "X_test= preprocessing.StandardScaler().fit(X_test).transform(X_test)"
   ]
  },
  {
   "cell_type": "markdown",
   "id": "ca7596f8",
   "metadata": {
    "papermill": {
     "duration": 0.110963,
     "end_time": "2022-01-19T19:44:32.431782",
     "exception": false,
     "start_time": "2022-01-19T19:44:32.320819",
     "status": "completed"
    },
    "tags": []
   },
   "source": [
    "### KNM Jaccard and F1 Score"
   ]
  },
  {
   "cell_type": "code",
   "execution_count": 34,
   "id": "4d9e4f18",
   "metadata": {
    "execution": {
     "iopub.execute_input": "2022-01-19T19:44:32.664992Z",
     "iopub.status.busy": "2022-01-19T19:44:32.664260Z",
     "iopub.status.idle": "2022-01-19T19:44:32.668282Z",
     "shell.execute_reply": "2022-01-19T19:44:32.668844Z",
     "shell.execute_reply.started": "2022-01-19T19:40:49.690099Z"
    },
    "papermill": {
     "duration": 0.126059,
     "end_time": "2022-01-19T19:44:32.669026",
     "exception": false,
     "start_time": "2022-01-19T19:44:32.542967",
     "status": "completed"
    },
    "tags": []
   },
   "outputs": [],
   "source": [
    "yhatKNM = neigh.predict(X_test)"
   ]
  },
  {
   "cell_type": "code",
   "execution_count": 35,
   "id": "7b4dec1e",
   "metadata": {
    "execution": {
     "iopub.execute_input": "2022-01-19T19:44:32.896194Z",
     "iopub.status.busy": "2022-01-19T19:44:32.895535Z",
     "iopub.status.idle": "2022-01-19T19:44:32.902609Z",
     "shell.execute_reply": "2022-01-19T19:44:32.903283Z",
     "shell.execute_reply.started": "2022-01-19T19:40:54.634430Z"
    },
    "papermill": {
     "duration": 0.122407,
     "end_time": "2022-01-19T19:44:32.903541",
     "exception": false,
     "start_time": "2022-01-19T19:44:32.781134",
     "status": "completed"
    },
    "tags": []
   },
   "outputs": [
    {
     "name": "stdout",
     "output_type": "stream",
     "text": [
      "KNM Jaccard Score: 0.7\n",
      "KNM F1-Score: 0.7001989201477693\n"
     ]
    }
   ],
   "source": [
    "print(\"KNM Jaccard Score:\", jaccard_score(y_test, yhatKNM,pos_label=\"PAIDOFF\"))\n",
    "print(\"KNM F1-Score:\", f1_score(y_test, yhatKNM, average='weighted') )"
   ]
  },
  {
   "cell_type": "markdown",
   "id": "4f8c4a31",
   "metadata": {
    "papermill": {
     "duration": 0.113333,
     "end_time": "2022-01-19T19:44:33.130403",
     "exception": false,
     "start_time": "2022-01-19T19:44:33.017070",
     "status": "completed"
    },
    "tags": []
   },
   "source": [
    "### Decision Tree Jaccard and F1 Score"
   ]
  },
  {
   "cell_type": "code",
   "execution_count": 36,
   "id": "9b69f8fb",
   "metadata": {
    "execution": {
     "iopub.execute_input": "2022-01-19T19:44:33.358276Z",
     "iopub.status.busy": "2022-01-19T19:44:33.357363Z",
     "iopub.status.idle": "2022-01-19T19:44:33.359960Z",
     "shell.execute_reply": "2022-01-19T19:44:33.359363Z",
     "shell.execute_reply.started": "2022-01-19T19:40:55.192462Z"
    },
    "papermill": {
     "duration": 0.118842,
     "end_time": "2022-01-19T19:44:33.360106",
     "exception": false,
     "start_time": "2022-01-19T19:44:33.241264",
     "status": "completed"
    },
    "tags": []
   },
   "outputs": [],
   "source": [
    "predTree = drugTree.predict(X_test)"
   ]
  },
  {
   "cell_type": "code",
   "execution_count": 37,
   "id": "19d0803b",
   "metadata": {
    "execution": {
     "iopub.execute_input": "2022-01-19T19:44:33.602416Z",
     "iopub.status.busy": "2022-01-19T19:44:33.600646Z",
     "iopub.status.idle": "2022-01-19T19:44:33.609796Z",
     "shell.execute_reply": "2022-01-19T19:44:33.610558Z",
     "shell.execute_reply.started": "2022-01-19T19:40:55.577253Z"
    },
    "papermill": {
     "duration": 0.13906,
     "end_time": "2022-01-19T19:44:33.610816",
     "exception": false,
     "start_time": "2022-01-19T19:44:33.471756",
     "status": "completed"
    },
    "tags": []
   },
   "outputs": [
    {
     "name": "stdout",
     "output_type": "stream",
     "text": [
      "Decision Tree Jaccard Score: 0.7647058823529411\n",
      "Decision Tree F1-Score: 0.7283950617283951\n"
     ]
    }
   ],
   "source": [
    "print(\"Decision Tree Jaccard Score:\", jaccard_score(y_test, predTree,pos_label=\"PAIDOFF\"))\n",
    "print(\"Decision Tree F1-Score:\", f1_score(y_test, predTree, average='weighted'))"
   ]
  },
  {
   "cell_type": "markdown",
   "id": "c8dbac32",
   "metadata": {
    "papermill": {
     "duration": 0.11347,
     "end_time": "2022-01-19T19:44:33.847153",
     "exception": false,
     "start_time": "2022-01-19T19:44:33.733683",
     "status": "completed"
    },
    "tags": []
   },
   "source": [
    "### SVM Jaccard and F1 Score"
   ]
  },
  {
   "cell_type": "code",
   "execution_count": 38,
   "id": "cd6f034c",
   "metadata": {
    "execution": {
     "iopub.execute_input": "2022-01-19T19:44:34.081110Z",
     "iopub.status.busy": "2022-01-19T19:44:34.080257Z",
     "iopub.status.idle": "2022-01-19T19:44:34.082708Z",
     "shell.execute_reply": "2022-01-19T19:44:34.083238Z",
     "shell.execute_reply.started": "2022-01-19T19:40:56.453287Z"
    },
    "papermill": {
     "duration": 0.124106,
     "end_time": "2022-01-19T19:44:34.083398",
     "exception": false,
     "start_time": "2022-01-19T19:44:33.959292",
     "status": "completed"
    },
    "tags": []
   },
   "outputs": [],
   "source": [
    "yhatSVM = clf.predict(X_test)"
   ]
  },
  {
   "cell_type": "code",
   "execution_count": 39,
   "id": "7efea6d5",
   "metadata": {
    "execution": {
     "iopub.execute_input": "2022-01-19T19:44:34.311904Z",
     "iopub.status.busy": "2022-01-19T19:44:34.310873Z",
     "iopub.status.idle": "2022-01-19T19:44:34.318748Z",
     "shell.execute_reply": "2022-01-19T19:44:34.319171Z",
     "shell.execute_reply.started": "2022-01-19T19:40:56.894407Z"
    },
    "papermill": {
     "duration": 0.122664,
     "end_time": "2022-01-19T19:44:34.319340",
     "exception": false,
     "start_time": "2022-01-19T19:44:34.196676",
     "status": "completed"
    },
    "scrolled": true,
    "tags": []
   },
   "outputs": [
    {
     "name": "stdout",
     "output_type": "stream",
     "text": [
      "SVM Jaccard Score: 0.7222222222222222\n",
      "SVM F1-Score: 0.6212664277180406\n"
     ]
    }
   ],
   "source": [
    "print(\"SVM Jaccard Score:\", jaccard_score(y_test, yhatSVM,pos_label=\"PAIDOFF\"))\n",
    "print(\"SVM F1-Score:\", f1_score(y_test, yhatSVM, average='weighted'))"
   ]
  },
  {
   "cell_type": "markdown",
   "id": "9d5afae5",
   "metadata": {
    "papermill": {
     "duration": 0.111373,
     "end_time": "2022-01-19T19:44:34.541978",
     "exception": false,
     "start_time": "2022-01-19T19:44:34.430605",
     "status": "completed"
    },
    "tags": []
   },
   "source": [
    "### Logistic Regression Jaccard, F1 and LogLoss Score"
   ]
  },
  {
   "cell_type": "code",
   "execution_count": 40,
   "id": "38f3d35b",
   "metadata": {
    "execution": {
     "iopub.execute_input": "2022-01-19T19:44:34.770400Z",
     "iopub.status.busy": "2022-01-19T19:44:34.769771Z",
     "iopub.status.idle": "2022-01-19T19:44:34.771641Z",
     "shell.execute_reply": "2022-01-19T19:44:34.772066Z",
     "shell.execute_reply.started": "2022-01-19T19:40:57.970384Z"
    },
    "papermill": {
     "duration": 0.118706,
     "end_time": "2022-01-19T19:44:34.772238",
     "exception": false,
     "start_time": "2022-01-19T19:44:34.653532",
     "status": "completed"
    },
    "tags": []
   },
   "outputs": [],
   "source": [
    "yhatLR = LR.predict(X_test)\n",
    "yhatLR_prob = LR.predict_proba(X_test)"
   ]
  },
  {
   "cell_type": "code",
   "execution_count": 41,
   "id": "d95cb6e8",
   "metadata": {
    "execution": {
     "iopub.execute_input": "2022-01-19T19:44:35.000041Z",
     "iopub.status.busy": "2022-01-19T19:44:34.999411Z",
     "iopub.status.idle": "2022-01-19T19:44:35.008774Z",
     "shell.execute_reply": "2022-01-19T19:44:35.009403Z",
     "shell.execute_reply.started": "2022-01-19T19:40:58.358661Z"
    },
    "papermill": {
     "duration": 0.126003,
     "end_time": "2022-01-19T19:44:35.009666",
     "exception": false,
     "start_time": "2022-01-19T19:44:34.883663",
     "status": "completed"
    },
    "tags": []
   },
   "outputs": [
    {
     "name": "stdout",
     "output_type": "stream",
     "text": [
      "Logistic Regression Jaccard Score: 0.7407407407407407\n",
      "Logistic Regression F1-Score: 0.6304176516942475\n",
      "Logistic Regression LogLoss: 0.5566084946309205\n"
     ]
    }
   ],
   "source": [
    "print(\"Logistic Regression Jaccard Score:\", jaccard_score(y_test, yhatLR,pos_label=\"PAIDOFF\"))\n",
    "print(\"Logistic Regression F1-Score:\", f1_score(y_test, yhatLR, average='weighted'))\n",
    "print(\"Logistic Regression LogLoss:\", log_loss(y_test, yhatLR_prob))"
   ]
  },
  {
   "cell_type": "markdown",
   "id": "cb6443d6",
   "metadata": {
    "papermill": {
     "duration": 0.111308,
     "end_time": "2022-01-19T19:44:35.238291",
     "exception": false,
     "start_time": "2022-01-19T19:44:35.126983",
     "status": "completed"
    },
    "tags": []
   },
   "source": [
    "# Report\n",
    "\n",
    "You should be able to report the accuracy of the built model using different evaluation metrics:\n"
   ]
  },
  {
   "cell_type": "markdown",
   "id": "6eabe1dd",
   "metadata": {
    "papermill": {
     "duration": 0.116556,
     "end_time": "2022-01-19T19:44:35.467160",
     "exception": false,
     "start_time": "2022-01-19T19:44:35.350604",
     "status": "completed"
    },
    "tags": []
   },
   "source": [
    "| Algorithm          | Jaccard | F1-score | LogLoss |\n",
    "| ------------------ | ------- | -------- | ------- |\n",
    "| KNN                | 0.7       | 0.700        | NA      |\n",
    "| Decision Tree      | 0.765       | 0.728        | NA      |\n",
    "| SVM                | 0.722       | 0.621        | NA      |\n",
    "| LogisticRegression | 0.741       | 0.630        | 0.557       |\n"
   ]
  },
  {
   "cell_type": "markdown",
   "id": "ab8f0b14",
   "metadata": {
    "button": false,
    "new_sheet": false,
    "papermill": {
     "duration": 0.11106,
     "end_time": "2022-01-19T19:44:35.693132",
     "exception": false,
     "start_time": "2022-01-19T19:44:35.582072",
     "status": "completed"
    },
    "run_control": {
     "read_only": false
    },
    "tags": []
   },
   "source": [
    "<h2>Want to learn more?</h2>\n",
    "\n",
    "IBM SPSS Modeler is a comprehensive analytics platform that has many machine learning algorithms. It has been designed to bring predictive intelligence to decisions made by individuals, by groups, by systems – by your enterprise as a whole. A free trial is available through this course, available here: <a href=\"http://cocl.us/ML0101EN-SPSSModeler?utm_medium=Exinfluencer&utm_source=Exinfluencer&utm_content=000026UJ&utm_term=10006555&utm_id=NA-SkillsNetwork-Channel-SkillsNetworkCoursesIBMDeveloperSkillsNetworkML0101ENSkillsNetwork20718538-2021-01-01\">SPSS Modeler</a>\n",
    "\n",
    "Also, you can use Watson Studio to run these notebooks faster with bigger datasets. Watson Studio is IBM's leading cloud solution for data scientists, built by data scientists. With Jupyter notebooks, RStudio, Apache Spark and popular libraries pre-packaged in the cloud, Watson Studio enables data scientists to collaborate on their projects without having to install anything. Join the fast-growing community of Watson Studio users today with a free account at <a href=\"https://cocl.us/ML0101EN_DSX?utm_medium=Exinfluencer&utm_source=Exinfluencer&utm_content=000026UJ&utm_term=10006555&utm_id=NA-SkillsNetwork-Channel-SkillsNetworkCoursesIBMDeveloperSkillsNetworkML0101ENSkillsNetwork20718538-2021-01-01\">Watson Studio</a>\n",
    "\n",
    "<h3>Thanks for completing this lesson!</h3>\n",
    "\n",
    "<h4>Author:  <a href=\"https://ca.linkedin.com/in/saeedaghabozorgi?utm_medium=Exinfluencer&utm_source=Exinfluencer&utm_content=000026UJ&utm_term=10006555&utm_id=NA-SkillsNetwork-Channel-SkillsNetworkCoursesIBMDeveloperSkillsNetworkML0101ENSkillsNetwork20718538-2021-01-01?utm_medium=Exinfluencer&utm_source=Exinfluencer&utm_content=000026UJ&utm_term=10006555&utm_id=NA-SkillsNetwork-Channel-SkillsNetworkCoursesIBMDeveloperSkillsNetworkML0101ENSkillsNetwork20718538-2021-01-01\">Saeed Aghabozorgi</a></h4>\n",
    "<p><a href=\"https://ca.linkedin.com/in/saeedaghabozorgi\">Saeed Aghabozorgi</a>, PhD is a Data Scientist in IBM with a track record of developing enterprise level applications that substantially increases clients’ ability to turn data into actionable knowledge. He is a researcher in data mining field and expert in developing advanced analytic methods like machine learning and statistical modelling on large datasets.</p>\n",
    "\n",
    "<hr>\n",
    "\n",
    "## Change Log\n",
    "\n",
    "| Date (YYYY-MM-DD) | Version | Changed By    | Change Description                                                             |\n",
    "| ----------------- | ------- | ------------- | ------------------------------------------------------------------------------ |\n",
    "| 2020-10-27        | 2.1     | Lakshmi Holla | Made changes in import statement due to updates in version of  sklearn library |\n",
    "| 2020-08-27        | 2.0     | Malika Singla | Added lab to GitLab                                                            |\n",
    "\n",
    "<hr>\n",
    "\n",
    "## <h3 align=\"center\"> © IBM Corporation 2020. All rights reserved. <h3/>\n",
    "\n",
    "<p>\n"
   ]
  }
 ],
 "metadata": {
  "kernelspec": {
   "display_name": "Python 3",
   "language": "python",
   "name": "python3"
  },
  "language_info": {
   "codemirror_mode": {
    "name": "ipython",
    "version": 3
   },
   "file_extension": ".py",
   "mimetype": "text/x-python",
   "name": "python",
   "nbconvert_exporter": "python",
   "pygments_lexer": "ipython3",
   "version": "3.7.10"
  },
  "papermill": {
   "default_parameters": {},
   "duration": 92.206106,
   "end_time": "2022-01-19T19:44:36.514778",
   "environment_variables": {},
   "exception": null,
   "input_path": "__notebook__.ipynb",
   "output_path": "__notebook__.ipynb",
   "parameters": {},
   "start_time": "2022-01-19T19:43:04.308672",
   "version": "2.3.3"
  }
 },
 "nbformat": 4,
 "nbformat_minor": 5
}
